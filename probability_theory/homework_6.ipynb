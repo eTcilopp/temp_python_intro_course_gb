{
  "nbformat": 4,
  "nbformat_minor": 0,
  "metadata": {
    "colab": {
      "provenance": [],
      "authorship_tag": "ABX9TyPTI/k+MwlgdD32DJoII4oc",
      "include_colab_link": true
    },
    "kernelspec": {
      "name": "python3",
      "display_name": "Python 3"
    },
    "language_info": {
      "name": "python"
    }
  },
  "cells": [
    {
      "cell_type": "markdown",
      "metadata": {
        "id": "view-in-github",
        "colab_type": "text"
      },
      "source": [
        "<a href=\"https://colab.research.google.com/github/eTcilopp/temp_python_intro_course_gb/blob/master/probability_theory/homework_6.ipynb\" target=\"_parent\"><img src=\"https://colab.research.google.com/assets/colab-badge.svg\" alt=\"Open In Colab\"/></a>"
      ]
    },
    {
      "cell_type": "markdown",
      "source": [
        "# Домашняя работа № 6<br>\n",
        "# Сравнение долей. Построение доверительного интервала\n",
        "## Задача 1\n",
        "Известно, что генеральная совокупность распределена нормально со средним квадратическим отклонением, равным 16.<br> Найти доверительный интервал для оценки математического ожидания a с надежностью 0.95,<br> если выборочная средняя M = 80, а объем выборки n = 256.\n"
      ],
      "metadata": {
        "id": "ElJZuvLDoaXN"
      }
    },
    {
      "cell_type": "markdown",
      "source": [
        "Решение.<br>\n",
        "Стандартное отклонение генеральной совокупности известно - воспользуемся формулой для расчета доверительного интервала:\n",
        "$$x \\pm z_{\\frac {\\alpha}{2}}\\cdot  \\frac {\\sigma}{\\sqrt n} $$\n"
      ],
      "metadata": {
        "id": "ayB2tB2MpL9S"
      }
    },
    {
      "cell_type": "code",
      "execution_count": 2,
      "metadata": {
        "colab": {
          "base_uri": "https://localhost:8080/"
        },
        "id": "pLIC0NcCoWWf",
        "outputId": "b5515d61-d499-4e1e-d39e-195df317483e"
      },
      "outputs": [
        {
          "output_type": "stream",
          "name": "stdout",
          "text": [
            "Доверительный интервал от 78.04003601545995 до 81.95996398454005\n"
          ]
        }
      ],
      "source": [
        "import numpy as np\n",
        "from scipy import stats\n",
        "\n",
        "m = 80\n",
        "n=256\n",
        "sigma = 16\n",
        "alpha = 0.05\n",
        "\n",
        "z = stats.norm.ppf(1-alpha/2)\n",
        "error = z * sigma / np.sqrt(n)\n",
        "print(f'Доверительный интервал от {m-error} до {m+error}')"
      ]
    },
    {
      "cell_type": "markdown",
      "source": [
        "## Задача 2.\n",
        "В результате 10 независимых измерений некоторой величины X, выполненных с одинаковой точностью,<br> получены опытные данные: 6.9, 6.1, 6.2, 6.8, 7.5, 6.3, 6.4, 6.9, 6.7, 6.1<br>Предполагая, что результаты измерений подчинены нормальному закону распределения вероятностей,<br>оценить истинное значение величины X при помощи доверительного интервала, покрывающего это значение с доверительной вероятностью 0,95.\n"
      ],
      "metadata": {
        "id": "2zbgYI3OzsWW"
      }
    },
    {
      "cell_type": "markdown",
      "source": [
        "Решение\n"
      ],
      "metadata": {
        "id": "t8kAJmI60CSZ"
      }
    },
    {
      "cell_type": "code",
      "source": [
        "\n",
        "a = np.array([6.9, 6.1, 6.2, 6.8, 7.5, 6.3, 6.4, 6.9, 6.7, 6.1])  # выборка\n",
        "\n",
        "x_1 = np.mean(a)  # среднее арифметическое для выборки а\n",
        "\n",
        "p = 0.975  # вероятность для alpha/2\n",
        "t1 = stats.t.ppf(p, len(a)-1)  #  критерий Стьюдента\n",
        "\n",
        "d = np.var(a, ddof=1) # несмещенная дисперсия для выборки a\n",
        "\n",
        "error = np.sqrt(d)/np.sqrt(n)\n",
        "\n",
        "# Доверительный интервал\n",
        "\n",
        "print(f'Доверительный интервал {x_1 - t1 * error}...{x_1 + t1 * error}'\n",
        "      '\\nИли по-другому:\\n'\n",
        "      f'Истинное значение можно оценить как {x_1:.02} +/- {t1 * error:.02}')\n",
        "\n",
        "\n"
      ],
      "metadata": {
        "id": "ROAHCmsl0quc",
        "colab": {
          "base_uri": "https://localhost:8080/"
        },
        "outputId": "e7d34c26-db92-4721-c8b8-22441e9a8e22"
      },
      "execution_count": 12,
      "outputs": [
        {
          "output_type": "stream",
          "name": "stdout",
          "text": [
            "Доверительный интервал 6.526263473823343...6.653736526176658\n",
            "Или по-другому:\n",
            "Истинное значение можно оценить как 6.6 +/- 0.064\n"
          ]
        }
      ]
    },
    {
      "cell_type": "markdown",
      "source": [
        "# Задача 3.\n",
        "Рост дочерей 175, 167, 154, 174, 178, 148, 160, 167, 169, 170 <br>\n",
        "Рост матерей  178, 165, 165, 173, 168, 155, 160, 164, 178, 175<br>\n",
        "Используя эти данные построить 95% доверительный интервал для разности среднего роста родителей и детей.\n"
      ],
      "metadata": {
        "id": "G0AXRAIwZ7xN"
      }
    },
    {
      "cell_type": "markdown",
      "source": [
        "Решение\n"
      ],
      "metadata": {
        "id": "AakjDaffaLco"
      }
    },
    {
      "cell_type": "code",
      "source": [
        "a = np.array([175, 167, 154, 174, 178, 148, 160, 167, 169, 170])\n",
        "b = np.array([178, 165, 165, 173, 168, 155, 160, 164, 178, 175])\n",
        "\n",
        "x_1 = np.mean(a)\n",
        "x_2 = np.mean(b)\n",
        "\n",
        "delta = x_1 - x_2\n",
        "\n",
        "d1 = np.var(a, ddof=1)  # несмещенная дисперсия для выборки 1\n",
        "d2 = np.var(b, ddof=1)  # несмещенная дисперсия для выборки 2\n",
        "d = (d1 + d2)/2  # объединенная оценка дисперсии\n",
        "se = np.sqrt(d/len(a) + d/len(b))  # стандартная ошибка разности средних\n",
        "\n",
        "df = 2*(len(a)-1)  # число степеней свободы\n",
        "t = stats.t.ppf(0.975, df) # критерий Стьюдента для alpha/2\n",
        "\n",
        "low_limit = delta - t*se  # нижняя граница довер интервала\n",
        "up_limit = delta + t*se  # верхняя граница довер интервала\n",
        "\n",
        "print('Доверительный интервал для разности среднего роста родителей и детей:\\n'\n",
        "      f'{low_limit}...{up_limit}')\n",
        "\n"
      ],
      "metadata": {
        "colab": {
          "base_uri": "https://localhost:8080/"
        },
        "id": "F6T4qiRuajAl",
        "outputId": "112722f9-9d5a-4706-b0b8-38f620477ed5"
      },
      "execution_count": 18,
      "outputs": [
        {
          "output_type": "stream",
          "name": "stdout",
          "text": [
            "Доверительный интервал для разности среднего роста родителей и детей:\n",
            "-10.068418034506857...6.268418034506846\n"
          ]
        }
      ]
    }
  ]
}