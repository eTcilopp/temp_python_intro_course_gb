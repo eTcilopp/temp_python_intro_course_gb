{
  "nbformat": 4,
  "nbformat_minor": 0,
  "metadata": {
    "colab": {
      "provenance": [],
      "authorship_tag": "ABX9TyOsoZYz39lTozTrfy368elK",
      "include_colab_link": true
    },
    "kernelspec": {
      "name": "python3",
      "display_name": "Python 3"
    },
    "language_info": {
      "name": "python"
    }
  },
  "cells": [
    {
      "cell_type": "markdown",
      "metadata": {
        "id": "view-in-github",
        "colab_type": "text"
      },
      "source": [
        "<a href=\"https://colab.research.google.com/github/eTcilopp/temp_python_intro_course_gb/blob/master/probability_theory/Homework_8.ipynb\" target=\"_parent\"><img src=\"https://colab.research.google.com/assets/colab-badge.svg\" alt=\"Open In Colab\"/></a>"
      ]
    },
    {
      "cell_type": "markdown",
      "source": [
        "# Урок 8. Корреляционный анализ\n",
        "## Задача 1. Даны значения величины заработной платы заемщиков банка (zp) <br> и значения их поведенческого кредитного скоринга (ks):<br> zp = [35, 45, 190, 200, 40, 70, 54, 150, 120, 110],<br> ks = [401, 574, 874, 919, 459, 739, 653, 902, 746, 832].<br> Найдите ковариацию этих двух величин с помощью элементарных действий,<br> а затем с помощью функции cov из numpy<br> Полученные значения должны быть равны.<br> Найдите коэффициент корреляции Пирсона с помощью ковариации и среднеквадратичных отклонений двух признаков,<br> а затем с использованием функций из библиотек numpy и pandas.\n"
      ],
      "metadata": {
        "id": "kQ_0RZPmsFSE"
      }
    },
    {
      "cell_type": "markdown",
      "source": [
        "Решение. <br>\n",
        "Коэффициент ковариации рассчитаем по формуле:\n",
        "$$cov_{xy}=M(XY)-M(X)\\cdot M(Y)$$\n",
        "где\n",
        "$$M(XY) = \\frac {35*401 + 45*574 + 190*874 + 200*919 + 40*459 + 70*739 + 54*653 + 150*902 + 120*746 + 110*832}{10}=81141.7$$\n",
        "\n",
        "$$M(X) = \\frac {35 + 45 + 190 + 200 + 40 + 70 + 54 + 150 + 120 + 110}{10}=101.4$$\n",
        "\n",
        "$$M(Y) = \\frac {401 + 574 + 874 + 919 + 459 + 739 + 653 +902 + 746 + 832}{10}=709.9$$\n",
        "\n",
        "$$M(XY)=81141.7 - 101.4 \\cdot 709.9 =9157.84$$"
      ],
      "metadata": {
        "id": "2TnuD3OLsj9w"
      }
    },
    {
      "cell_type": "code",
      "source": [
        "covariance_matrix = np.cov(zp, ks, ddof=0)\n",
        "print(f'Искомое значение ковариации: {covariance_matrix[0][1]}')"
      ],
      "metadata": {
        "colab": {
          "base_uri": "https://localhost:8080/"
        },
        "id": "jXjFZ-C_wnnu",
        "outputId": "bdcafad6-d9c0-48ad-adc2-73847a085ab2"
      },
      "execution_count": 26,
      "outputs": [
        {
          "output_type": "stream",
          "name": "stdout",
          "text": [
            "Искомое значение ковариации: 9157.84\n"
          ]
        }
      ]
    },
    {
      "cell_type": "markdown",
      "source": [
        "Ищем коэффициент корреляции Пирсона<br>\n",
        "$$r_{xy}=\\frac{cov_{xy}}{\\sigma _x \\cdot \\sigma _y}$$\n"
      ],
      "metadata": {
        "id": "upDvhKx53R1A"
      }
    },
    {
      "cell_type": "code",
      "source": [
        "cov_xy = np.cov(zp,ks, ddof=0)[0][1]\n",
        "sigma_x = np.std(zp, ddof=0)\n",
        "sigma_y = np.std(ks, ddof=0)\n",
        "r_xy = cov_xy / sigma_x / sigma_y\n",
        "r_xy_2 = np.corrcoef(zp, ks)[0][1]\n",
        "print(f'Значение коэффикиента корреляции Пирсона рассчитанное `вручную`: {r_xy}\\n с помощью формулы numpy: {r_xy_2}')"
      ],
      "metadata": {
        "colab": {
          "base_uri": "https://localhost:8080/"
        },
        "id": "gHVI5Wpmwool",
        "outputId": "f2241b77-260f-4f23-ac66-102343cc9fba"
      },
      "execution_count": 29,
      "outputs": [
        {
          "output_type": "stream",
          "name": "stdout",
          "text": [
            "Значение коэффикиента корреляции Пирсона рассчитанное `вручную`: 0.8874900920739162\n",
            " с помощью формулы numpy: 0.8874900920739162\n"
          ]
        }
      ]
    },
    {
      "cell_type": "markdown",
      "source": [
        "Задача 2<br>\n",
        "Измерены значения IQ выборки студентов, обучающихся в местных технических вузах:<br> 131, 125, 115, 122, 131, 115, 107, 99, 125, 111.<br> Известно, что в генеральной совокупности IQ распределен нормально. <br>Найдите доверительный интервал для математического ожидания с надежностью 0.95."
      ],
      "metadata": {
        "id": "ILZOlrn34vaZ"
      }
    },
    {
      "cell_type": "markdown",
      "source": [
        "Решение.<br>\n",
        "Найдем доверительный интервал по формуле\n",
        "$$x \\pm t_{\\frac {\\alpha}{2}}\\cdot  \\frac {\\sigma}{\\sqrt n} $$\n"
      ],
      "metadata": {
        "id": "jvTsP24W44Qa"
      }
    },
    {
      "cell_type": "code",
      "source": [
        "from scipy import stats\n",
        "a = np.array([131, 125, 115, 122, 131, 115, 107, 99, 125, 111])\n",
        "n = len(a) # количество элементов в выборке\n",
        "x_1 = np.mean(a) # среднее арифметическое для выборки a\n",
        "t = stats.t.ppf(0.975, n-1) # коэффициент Стьюдента для alpha/2\n",
        "d = np.var(a, ddof=1) # несмещенная дисперсия для выборки a\n",
        "error = np.sqrt(d)/np.sqrt(n) # ошибка\n",
        "print(f'Доверителный интервал от {x_1 - t*error} до {x_1 + t*error} при среднем {x_1} и надежности 0.95')\n"
      ],
      "metadata": {
        "colab": {
          "base_uri": "https://localhost:8080/"
        },
        "id": "JVot6GsO4XpQ",
        "outputId": "7b9b38b5-6b33-4f30-d44f-37c189be74ea"
      },
      "execution_count": 36,
      "outputs": [
        {
          "output_type": "stream",
          "name": "stdout",
          "text": [
            "Доверителный интервал от 110.55608365158724 до 125.64391634841274 при среднем 118.1 и надежности 0.95\n"
          ]
        }
      ]
    },
    {
      "cell_type": "markdown",
      "source": [
        "## Задача 3<br>\n",
        "Известно, что рост футболистов в сборной распределен нормально с дисперсией генеральной совокупности, равной 25 кв.см.<br> Объем выборки равен 27, среднее выборочное составляет 174.2.<br> Найдите доверительный интервал для математического ожидания с надежностью 0.95."
      ],
      "metadata": {
        "id": "ppFsfl1c66aT"
      }
    },
    {
      "cell_type": "markdown",
      "source": [
        "Решение.<br>\n",
        "Имеем\n",
        "$$\\\\sigma = \\sqrt {25}$$\n",
        "$$n=27$$\n",
        "$$\\overline X=174.2$$\n",
        "$$\\alpha = 0.05$$\n",
        "Далее, по формуле\n",
        "$$x \\pm z_{\\frac {\\alpha}{2}}\\cdot  \\frac {\\sigma}{\\sqrt n} $$\n",
        "Можем рассчитать доверительный интервал"
      ],
      "metadata": {
        "id": "eTnS6fKj7EKR"
      }
    },
    {
      "cell_type": "code",
      "source": [
        "sigma = np.sqrt(25)\n",
        "n = 27\n",
        "alpha= 0.05\n",
        "x_ = 174.2\n",
        "z_score = stats.norm.ppf(1-alpha/2)\n",
        "error = z_score * sigma/ np.sqrt(n)"
      ],
      "metadata": {
        "id": "2UvWEIZ45Qrx"
      },
      "execution_count": 65,
      "outputs": []
    },
    {
      "cell_type": "code",
      "source": [
        "print(f'Доверительный интервал от {x_- error} до {x_+ error} при среднем {x_} c надежностью {1-alpha}')"
      ],
      "metadata": {
        "colab": {
          "base_uri": "https://localhost:8080/"
        },
        "id": "Eg1ljKs79OT2",
        "outputId": "4ef62200-8f2f-4752-c713-dacdf47155f3"
      },
      "execution_count": 67,
      "outputs": [
        {
          "output_type": "stream",
          "name": "stdout",
          "text": [
            "Доверительный интервал от 172.3140237765397 до 176.08597622346028 при среднем 174.2 c надежностью 0.95\n"
          ]
        }
      ]
    }
  ]
}