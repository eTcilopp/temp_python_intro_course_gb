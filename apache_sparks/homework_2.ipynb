{
  "nbformat": 4,
  "nbformat_minor": 0,
  "metadata": {
    "colab": {
      "provenance": [],
      "authorship_tag": "ABX9TyOVlEl5jD9YIunL7z0Tthif",
      "include_colab_link": true
    },
    "kernelspec": {
      "name": "python3",
      "display_name": "Python 3"
    },
    "language_info": {
      "name": "python"
    }
  },
  "cells": [
    {
      "cell_type": "markdown",
      "metadata": {
        "id": "view-in-github",
        "colab_type": "text"
      },
      "source": [
        "<a href=\"https://colab.research.google.com/github/eTcilopp/temp_python_intro_course_gb/blob/master/apache_sparks/homework_2.ipynb\" target=\"_parent\"><img src=\"https://colab.research.google.com/assets/colab-badge.svg\" alt=\"Open In Colab\"/></a>"
      ]
    },
    {
      "cell_type": "code",
      "execution_count": 3,
      "metadata": {
        "id": "WTyIHiiLM2tW"
      },
      "outputs": [],
      "source": [
        "!pip install pyspark >> None"
      ]
    },
    {
      "cell_type": "code",
      "source": [
        "import pyspark\n",
        "from pyspark import SparkContext\n",
        "from pyspark.sql import SparkSession\n",
        "from pyspark.sql.functions import col"
      ],
      "metadata": {
        "id": "arJrUTopNL7i"
      },
      "execution_count": 31,
      "outputs": []
    },
    {
      "cell_type": "code",
      "source": [
        "data = [(1, 'Joe', 70, 3), (2, 'Henry', 80, 4), (3, 'Sam', 60, None), (4, 'Max', 90, None)]"
      ],
      "metadata": {
        "id": "SLJuB9Q9N1BY"
      },
      "execution_count": 32,
      "outputs": []
    },
    {
      "cell_type": "code",
      "source": [
        "spark=SparkSession.builder.appName('S2').getOrCreate()\n"
      ],
      "metadata": {
        "id": "HIctlqrKNMvS"
      },
      "execution_count": 33,
      "outputs": []
    },
    {
      "cell_type": "code",
      "source": [
        "df = spark.createDataFrame(data, ['id', 'name', 'salary', 'manager_id'])"
      ],
      "metadata": {
        "id": "eYrJNXJrORQQ"
      },
      "execution_count": 34,
      "outputs": []
    },
    {
      "cell_type": "code",
      "source": [
        "df.show(5)"
      ],
      "metadata": {
        "colab": {
          "base_uri": "https://localhost:8080/"
        },
        "id": "ElVMZf4POhlM",
        "outputId": "73c26f84-0656-4056-dfa8-561d3dd1e4dc"
      },
      "execution_count": 35,
      "outputs": [
        {
          "output_type": "stream",
          "name": "stdout",
          "text": [
            "+---+-----+------+----------+\n",
            "| id| name|salary|manager_id|\n",
            "+---+-----+------+----------+\n",
            "|  1|  Joe|    70|         3|\n",
            "|  2|Henry|    80|         4|\n",
            "|  3|  Sam|    60|      NULL|\n",
            "|  4|  Max|    90|      NULL|\n",
            "+---+-----+------+----------+\n",
            "\n"
          ]
        }
      ]
    },
    {
      "cell_type": "code",
      "source": [
        "df1 = df.alias(\"df1\")\n",
        "df2 = df.alias(\"df2\")"
      ],
      "metadata": {
        "id": "oraUFQH9O9W7"
      },
      "execution_count": 36,
      "outputs": []
    },
    {
      "cell_type": "code",
      "source": [
        "joined_df = df1.join(df2, col(\"df1.manager_id\") == col(\"df2.id\"), 'inner')\n",
        "joined_df.show()"
      ],
      "metadata": {
        "colab": {
          "base_uri": "https://localhost:8080/"
        },
        "id": "fUDQoRNI0MvG",
        "outputId": "c537da30-10eb-49d6-f7a5-bcc213911427"
      },
      "execution_count": 38,
      "outputs": [
        {
          "output_type": "stream",
          "name": "stdout",
          "text": [
            "+---+-----+------+----------+---+----+------+----------+\n",
            "| id| name|salary|manager_id| id|name|salary|manager_id|\n",
            "+---+-----+------+----------+---+----+------+----------+\n",
            "|  1|  Joe|    70|         3|  3| Sam|    60|      NULL|\n",
            "|  2|Henry|    80|         4|  4| Max|    90|      NULL|\n",
            "+---+-----+------+----------+---+----+------+----------+\n",
            "\n"
          ]
        }
      ]
    },
    {
      "cell_type": "code",
      "source": [
        "joined_df = df1.join(df2, col(\"df1.manager_id\") == col(\"df2.id\"), 'inner').select(col(\"df1.name\").alias('employee_name'), col(\"df1.salary\").alias('employee_salary'), col(\"df2.salary\").alias('manager_salary'))\n",
        "joined_df.show()"
      ],
      "metadata": {
        "colab": {
          "base_uri": "https://localhost:8080/"
        },
        "id": "iMtBV4M_Ra-l",
        "outputId": "19eef34c-23b6-45fb-906d-8500554234a8"
      },
      "execution_count": 39,
      "outputs": [
        {
          "output_type": "stream",
          "name": "stdout",
          "text": [
            "+-------------+---------------+--------------+\n",
            "|employee_name|employee_salary|manager_salary|\n",
            "+-------------+---------------+--------------+\n",
            "|          Joe|             70|            60|\n",
            "|        Henry|             80|            90|\n",
            "+-------------+---------------+--------------+\n",
            "\n"
          ]
        }
      ]
    },
    {
      "cell_type": "code",
      "source": [
        "result_df = joined_df.filter(col(\"employee_salary\") > col(\"manager_salary\"))\n",
        "result_df.show()"
      ],
      "metadata": {
        "colab": {
          "base_uri": "https://localhost:8080/"
        },
        "id": "Jr8553gw3tfd",
        "outputId": "53a092de-6434-432d-9ef1-d2172b403ad4"
      },
      "execution_count": 40,
      "outputs": [
        {
          "output_type": "stream",
          "name": "stdout",
          "text": [
            "+-------------+---------------+--------------+\n",
            "|employee_name|employee_salary|manager_salary|\n",
            "+-------------+---------------+--------------+\n",
            "|          Joe|             70|            60|\n",
            "+-------------+---------------+--------------+\n",
            "\n"
          ]
        }
      ]
    }
  ]
}