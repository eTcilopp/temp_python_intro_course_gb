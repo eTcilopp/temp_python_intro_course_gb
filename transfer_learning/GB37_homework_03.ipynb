{
  "nbformat": 4,
  "nbformat_minor": 0,
  "metadata": {
    "colab": {
      "provenance": [],
      "gpuType": "T4",
      "authorship_tag": "ABX9TyMJsubh5dkMvxjX1eOVfBRZ",
      "include_colab_link": true
    },
    "kernelspec": {
      "name": "python3",
      "display_name": "Python 3"
    },
    "language_info": {
      "name": "python"
    },
    "accelerator": "GPU"
  },
  "cells": [
    {
      "cell_type": "markdown",
      "metadata": {
        "id": "view-in-github",
        "colab_type": "text"
      },
      "source": [
        "<a href=\"https://colab.research.google.com/github/eTcilopp/temp_python_intro_course_gb/blob/master/transfer_learning/GB37_homework_03.ipynb\" target=\"_parent\"><img src=\"https://colab.research.google.com/assets/colab-badge.svg\" alt=\"Open In Colab\"/></a>"
      ]
    },
    {
      "cell_type": "markdown",
      "source": [
        "# Домашнее задание №3\n",
        "\n",
        "Реализуйте классификацию эмоциональной окрашенности текстов при помощи объекта pipeline.\n",
        "\n",
        "1. Найдите тип задач Sentiment Analysis на huggingface.co\n",
        "2. Найдите модель для русского языка (примеры: rubert-tiny2..., rubert-base...)\n",
        "3. Выполните следующую ячейку. Если вы правильно инициализировали pipeline, вы получите относительно верные предсказания.\n",
        "\n",
        "classifier( [\"Отличный товар\",<br>\n",
        "            \"Мне не понравилось\",<br>\n",
        "            \"Прекрасно выглядит, ничего не меняйте!\",<br>\n",
        "            \"Ничего не понял\",<br>\n",
        "            \"У меня не работала розетка, в остальном все отлично\"] )"
      ],
      "metadata": {
        "id": "JEQprnxwnMJR"
      }
    },
    {
      "cell_type": "markdown",
      "source": [
        "# Решение\n",
        "Я случайным образом выбрал русскоязычную модель, определяющую токсичность комментариев. <br>\n",
        "Ссылка на модель приведена ниже"
      ],
      "metadata": {
        "id": "fkYbSMNanc5d"
      }
    },
    {
      "cell_type": "markdown",
      "source": [
        "https://huggingface.co/cointegrated/rubert-tiny-toxicity"
      ],
      "metadata": {
        "id": "PQ-gx-fVHFlZ"
      }
    },
    {
      "cell_type": "markdown",
      "source": [
        "На странице модели подробно описано, как ее запустить в Jupyter Notebook <br>\n",
        "Я скопировал код устновки"
      ],
      "metadata": {
        "id": "DUa2SPLLn1dU"
      }
    },
    {
      "cell_type": "code",
      "execution_count": 1,
      "metadata": {
        "id": "9nsjuYG37pdx"
      },
      "outputs": [],
      "source": [
        "!pip install transformers sentencepiece --quiet"
      ]
    },
    {
      "cell_type": "code",
      "source": [
        "import torch\n",
        "from transformers import AutoTokenizer, AutoModelForSequenceClassification, pipeline\n",
        "import pandas as pd"
      ],
      "metadata": {
        "id": "FkxXNHDj7uFL"
      },
      "execution_count": 18,
      "outputs": []
    },
    {
      "cell_type": "code",
      "source": [
        "model_checkpoint = 'cointegrated/rubert-tiny-toxicity'\n",
        "tokenizer = AutoTokenizer.from_pretrained(model_checkpoint)\n",
        "model = AutoModelForSequenceClassification.from_pretrained(model_checkpoint)\n",
        "if torch.cuda.is_available():\n",
        "    model.cuda()"
      ],
      "metadata": {
        "id": "7kuAxro-735d"
      },
      "execution_count": 34,
      "outputs": []
    },
    {
      "cell_type": "markdown",
      "source": [
        "Оттуда же взята фукнция для анализа отдельных комментариев"
      ],
      "metadata": {
        "id": "WOKEXbQOoPbh"
      }
    },
    {
      "cell_type": "code",
      "source": [
        "def text2toxicity(text, aggregate=True):\n",
        "    \"\"\" Calculate toxicity of a text (if aggregate=True) or a vector of toxicity aspects (if aggregate=False)\"\"\"\n",
        "    if not isinstance(text, str):\n",
        "        return\n",
        "    with torch.no_grad():\n",
        "        inputs = tokenizer(text, return_tensors='pt', truncation=True, padding=True).to(model.device)\n",
        "        proba = torch.sigmoid(model(**inputs).logits).cpu().numpy()\n",
        "    if isinstance(text, str):\n",
        "        proba = proba[0]\n",
        "    if aggregate:\n",
        "        return 1 - proba.T[0] * (1 - proba.T[-1])\n",
        "    return proba"
      ],
      "metadata": {
        "id": "9cY7TTJm8Cpm"
      },
      "execution_count": 36,
      "outputs": []
    },
    {
      "cell_type": "markdown",
      "source": [
        "Сформировал pipeline"
      ],
      "metadata": {
        "id": "syQobu0SoFvh"
      }
    },
    {
      "cell_type": "code",
      "source": [
        "comment_analysis = pipeline('comment-classification', model=model, tokenizer=tokenizer, device=0)"
      ],
      "metadata": {
        "id": "bK_AWpdw-NGU"
      },
      "execution_count": 35,
      "outputs": []
    },
    {
      "cell_type": "markdown",
      "source": [
        "... и запустил в нее список отзывов из домашнего задания.<br>\n",
        "Все отзывы признаны нетоксичными"
      ],
      "metadata": {
        "id": "FOicEvBioYbL"
      }
    },
    {
      "cell_type": "code",
      "source": [
        "comment_analysis([\"Отличный товар\",\n",
        "            \"Мне не понравилось\",\n",
        "            \"Прекрасно выглядит, ничего не меняйте!\",\n",
        "            \"Ничего не понял\",\n",
        "            \"У меня не работала розетка, в остальном все отлично\"])"
      ],
      "metadata": {
        "colab": {
          "base_uri": "https://localhost:8080/"
        },
        "id": "lJqZLKCy8bqM",
        "outputId": "fd2f7fbf-e204-4047-93f3-11b85857ae08"
      },
      "execution_count": 37,
      "outputs": [
        {
          "output_type": "execute_result",
          "data": {
            "text/plain": [
              "[{'label': 'non-toxic', 'score': 0.9998286962509155},\n",
              " {'label': 'non-toxic', 'score': 0.9997503161430359},\n",
              " {'label': 'non-toxic', 'score': 0.9992654919624329},\n",
              " {'label': 'non-toxic', 'score': 0.9997246861457825},\n",
              " {'label': 'non-toxic', 'score': 0.9998869895935059}]"
            ]
          },
          "metadata": {},
          "execution_count": 37
        }
      ]
    },
    {
      "cell_type": "markdown",
      "source": [
        "Далее, через Google-сервис поиска датасетов нашел русскоязычную модель разных комментариев из соц. сетей. <br>Данная модель не связана с датастом"
      ],
      "metadata": {
        "id": "8a8UlhGjokJA"
      }
    },
    {
      "cell_type": "markdown",
      "source": [
        "Ссылка на датасет <br>\n",
        "https://data.mendeley.com/datasets/fktgy52645/1"
      ],
      "metadata": {
        "id": "2HhMixsOF2FM"
      }
    },
    {
      "cell_type": "markdown",
      "source": [
        "Сформировал датафрейм из файла. Комментарии сразу начали радовать..."
      ],
      "metadata": {
        "id": "ZT78wso9o7MP"
      }
    },
    {
      "cell_type": "code",
      "source": [
        "df = pd.read_csv('/content/sample_data/combined.csv')\n",
        "df.head(2)"
      ],
      "metadata": {
        "colab": {
          "base_uri": "https://localhost:8080/",
          "height": 112
        },
        "id": "Z9-hguhI9s7j",
        "outputId": "b573d3d1-dd8a-4783-aee9-90b26b061769"
      },
      "execution_count": 38,
      "outputs": [
        {
          "output_type": "execute_result",
          "data": {
            "text/plain": [
              "   Unnamed: 0                             source text     message   sex  \\\n",
              "0         0.0  https://vk.com/wall409928036_9302  NaN  Ты долбаеб  male   \n",
              "1         1.0  https://vk.com/wall409928036_9302  NaN     Ты пидр  male   \n",
              "\n",
              "    decent    moral  person  \n",
              "0  obscene    moral  person  \n",
              "1  obscene  immoral  person  "
            ],
            "text/html": [
              "\n",
              "  <div id=\"df-8f34cf59-521b-4e7a-abf6-e87ab9b4407e\" class=\"colab-df-container\">\n",
              "    <div>\n",
              "<style scoped>\n",
              "    .dataframe tbody tr th:only-of-type {\n",
              "        vertical-align: middle;\n",
              "    }\n",
              "\n",
              "    .dataframe tbody tr th {\n",
              "        vertical-align: top;\n",
              "    }\n",
              "\n",
              "    .dataframe thead th {\n",
              "        text-align: right;\n",
              "    }\n",
              "</style>\n",
              "<table border=\"1\" class=\"dataframe\">\n",
              "  <thead>\n",
              "    <tr style=\"text-align: right;\">\n",
              "      <th></th>\n",
              "      <th>Unnamed: 0</th>\n",
              "      <th>source</th>\n",
              "      <th>text</th>\n",
              "      <th>message</th>\n",
              "      <th>sex</th>\n",
              "      <th>decent</th>\n",
              "      <th>moral</th>\n",
              "      <th>person</th>\n",
              "    </tr>\n",
              "  </thead>\n",
              "  <tbody>\n",
              "    <tr>\n",
              "      <th>0</th>\n",
              "      <td>0.0</td>\n",
              "      <td>https://vk.com/wall409928036_9302</td>\n",
              "      <td>NaN</td>\n",
              "      <td>Ты долбаеб</td>\n",
              "      <td>male</td>\n",
              "      <td>obscene</td>\n",
              "      <td>moral</td>\n",
              "      <td>person</td>\n",
              "    </tr>\n",
              "    <tr>\n",
              "      <th>1</th>\n",
              "      <td>1.0</td>\n",
              "      <td>https://vk.com/wall409928036_9302</td>\n",
              "      <td>NaN</td>\n",
              "      <td>Ты пидр</td>\n",
              "      <td>male</td>\n",
              "      <td>obscene</td>\n",
              "      <td>immoral</td>\n",
              "      <td>person</td>\n",
              "    </tr>\n",
              "  </tbody>\n",
              "</table>\n",
              "</div>\n",
              "    <div class=\"colab-df-buttons\">\n",
              "\n",
              "  <div class=\"colab-df-container\">\n",
              "    <button class=\"colab-df-convert\" onclick=\"convertToInteractive('df-8f34cf59-521b-4e7a-abf6-e87ab9b4407e')\"\n",
              "            title=\"Convert this dataframe to an interactive table.\"\n",
              "            style=\"display:none;\">\n",
              "\n",
              "  <svg xmlns=\"http://www.w3.org/2000/svg\" height=\"24px\" viewBox=\"0 -960 960 960\">\n",
              "    <path d=\"M120-120v-720h720v720H120Zm60-500h600v-160H180v160Zm220 220h160v-160H400v160Zm0 220h160v-160H400v160ZM180-400h160v-160H180v160Zm440 0h160v-160H620v160ZM180-180h160v-160H180v160Zm440 0h160v-160H620v160Z\"/>\n",
              "  </svg>\n",
              "    </button>\n",
              "\n",
              "  <style>\n",
              "    .colab-df-container {\n",
              "      display:flex;\n",
              "      gap: 12px;\n",
              "    }\n",
              "\n",
              "    .colab-df-convert {\n",
              "      background-color: #E8F0FE;\n",
              "      border: none;\n",
              "      border-radius: 50%;\n",
              "      cursor: pointer;\n",
              "      display: none;\n",
              "      fill: #1967D2;\n",
              "      height: 32px;\n",
              "      padding: 0 0 0 0;\n",
              "      width: 32px;\n",
              "    }\n",
              "\n",
              "    .colab-df-convert:hover {\n",
              "      background-color: #E2EBFA;\n",
              "      box-shadow: 0px 1px 2px rgba(60, 64, 67, 0.3), 0px 1px 3px 1px rgba(60, 64, 67, 0.15);\n",
              "      fill: #174EA6;\n",
              "    }\n",
              "\n",
              "    .colab-df-buttons div {\n",
              "      margin-bottom: 4px;\n",
              "    }\n",
              "\n",
              "    [theme=dark] .colab-df-convert {\n",
              "      background-color: #3B4455;\n",
              "      fill: #D2E3FC;\n",
              "    }\n",
              "\n",
              "    [theme=dark] .colab-df-convert:hover {\n",
              "      background-color: #434B5C;\n",
              "      box-shadow: 0px 1px 3px 1px rgba(0, 0, 0, 0.15);\n",
              "      filter: drop-shadow(0px 1px 2px rgba(0, 0, 0, 0.3));\n",
              "      fill: #FFFFFF;\n",
              "    }\n",
              "  </style>\n",
              "\n",
              "    <script>\n",
              "      const buttonEl =\n",
              "        document.querySelector('#df-8f34cf59-521b-4e7a-abf6-e87ab9b4407e button.colab-df-convert');\n",
              "      buttonEl.style.display =\n",
              "        google.colab.kernel.accessAllowed ? 'block' : 'none';\n",
              "\n",
              "      async function convertToInteractive(key) {\n",
              "        const element = document.querySelector('#df-8f34cf59-521b-4e7a-abf6-e87ab9b4407e');\n",
              "        const dataTable =\n",
              "          await google.colab.kernel.invokeFunction('convertToInteractive',\n",
              "                                                    [key], {});\n",
              "        if (!dataTable) return;\n",
              "\n",
              "        const docLinkHtml = 'Like what you see? Visit the ' +\n",
              "          '<a target=\"_blank\" href=https://colab.research.google.com/notebooks/data_table.ipynb>data table notebook</a>'\n",
              "          + ' to learn more about interactive tables.';\n",
              "        element.innerHTML = '';\n",
              "        dataTable['output_type'] = 'display_data';\n",
              "        await google.colab.output.renderOutput(dataTable, element);\n",
              "        const docLink = document.createElement('div');\n",
              "        docLink.innerHTML = docLinkHtml;\n",
              "        element.appendChild(docLink);\n",
              "      }\n",
              "    </script>\n",
              "  </div>\n",
              "\n",
              "\n",
              "<div id=\"df-5e225e9b-cc0c-4e79-9206-0dde78f18463\">\n",
              "  <button class=\"colab-df-quickchart\" onclick=\"quickchart('df-5e225e9b-cc0c-4e79-9206-0dde78f18463')\"\n",
              "            title=\"Suggest charts\"\n",
              "            style=\"display:none;\">\n",
              "\n",
              "<svg xmlns=\"http://www.w3.org/2000/svg\" height=\"24px\"viewBox=\"0 0 24 24\"\n",
              "     width=\"24px\">\n",
              "    <g>\n",
              "        <path d=\"M19 3H5c-1.1 0-2 .9-2 2v14c0 1.1.9 2 2 2h14c1.1 0 2-.9 2-2V5c0-1.1-.9-2-2-2zM9 17H7v-7h2v7zm4 0h-2V7h2v10zm4 0h-2v-4h2v4z\"/>\n",
              "    </g>\n",
              "</svg>\n",
              "  </button>\n",
              "\n",
              "<style>\n",
              "  .colab-df-quickchart {\n",
              "      --bg-color: #E8F0FE;\n",
              "      --fill-color: #1967D2;\n",
              "      --hover-bg-color: #E2EBFA;\n",
              "      --hover-fill-color: #174EA6;\n",
              "      --disabled-fill-color: #AAA;\n",
              "      --disabled-bg-color: #DDD;\n",
              "  }\n",
              "\n",
              "  [theme=dark] .colab-df-quickchart {\n",
              "      --bg-color: #3B4455;\n",
              "      --fill-color: #D2E3FC;\n",
              "      --hover-bg-color: #434B5C;\n",
              "      --hover-fill-color: #FFFFFF;\n",
              "      --disabled-bg-color: #3B4455;\n",
              "      --disabled-fill-color: #666;\n",
              "  }\n",
              "\n",
              "  .colab-df-quickchart {\n",
              "    background-color: var(--bg-color);\n",
              "    border: none;\n",
              "    border-radius: 50%;\n",
              "    cursor: pointer;\n",
              "    display: none;\n",
              "    fill: var(--fill-color);\n",
              "    height: 32px;\n",
              "    padding: 0;\n",
              "    width: 32px;\n",
              "  }\n",
              "\n",
              "  .colab-df-quickchart:hover {\n",
              "    background-color: var(--hover-bg-color);\n",
              "    box-shadow: 0 1px 2px rgba(60, 64, 67, 0.3), 0 1px 3px 1px rgba(60, 64, 67, 0.15);\n",
              "    fill: var(--button-hover-fill-color);\n",
              "  }\n",
              "\n",
              "  .colab-df-quickchart-complete:disabled,\n",
              "  .colab-df-quickchart-complete:disabled:hover {\n",
              "    background-color: var(--disabled-bg-color);\n",
              "    fill: var(--disabled-fill-color);\n",
              "    box-shadow: none;\n",
              "  }\n",
              "\n",
              "  .colab-df-spinner {\n",
              "    border: 2px solid var(--fill-color);\n",
              "    border-color: transparent;\n",
              "    border-bottom-color: var(--fill-color);\n",
              "    animation:\n",
              "      spin 1s steps(1) infinite;\n",
              "  }\n",
              "\n",
              "  @keyframes spin {\n",
              "    0% {\n",
              "      border-color: transparent;\n",
              "      border-bottom-color: var(--fill-color);\n",
              "      border-left-color: var(--fill-color);\n",
              "    }\n",
              "    20% {\n",
              "      border-color: transparent;\n",
              "      border-left-color: var(--fill-color);\n",
              "      border-top-color: var(--fill-color);\n",
              "    }\n",
              "    30% {\n",
              "      border-color: transparent;\n",
              "      border-left-color: var(--fill-color);\n",
              "      border-top-color: var(--fill-color);\n",
              "      border-right-color: var(--fill-color);\n",
              "    }\n",
              "    40% {\n",
              "      border-color: transparent;\n",
              "      border-right-color: var(--fill-color);\n",
              "      border-top-color: var(--fill-color);\n",
              "    }\n",
              "    60% {\n",
              "      border-color: transparent;\n",
              "      border-right-color: var(--fill-color);\n",
              "    }\n",
              "    80% {\n",
              "      border-color: transparent;\n",
              "      border-right-color: var(--fill-color);\n",
              "      border-bottom-color: var(--fill-color);\n",
              "    }\n",
              "    90% {\n",
              "      border-color: transparent;\n",
              "      border-bottom-color: var(--fill-color);\n",
              "    }\n",
              "  }\n",
              "</style>\n",
              "\n",
              "  <script>\n",
              "    async function quickchart(key) {\n",
              "      const quickchartButtonEl =\n",
              "        document.querySelector('#' + key + ' button');\n",
              "      quickchartButtonEl.disabled = true;  // To prevent multiple clicks.\n",
              "      quickchartButtonEl.classList.add('colab-df-spinner');\n",
              "      try {\n",
              "        const charts = await google.colab.kernel.invokeFunction(\n",
              "            'suggestCharts', [key], {});\n",
              "      } catch (error) {\n",
              "        console.error('Error during call to suggestCharts:', error);\n",
              "      }\n",
              "      quickchartButtonEl.classList.remove('colab-df-spinner');\n",
              "      quickchartButtonEl.classList.add('colab-df-quickchart-complete');\n",
              "    }\n",
              "    (() => {\n",
              "      let quickchartButtonEl =\n",
              "        document.querySelector('#df-5e225e9b-cc0c-4e79-9206-0dde78f18463 button');\n",
              "      quickchartButtonEl.style.display =\n",
              "        google.colab.kernel.accessAllowed ? 'block' : 'none';\n",
              "    })();\n",
              "  </script>\n",
              "</div>\n",
              "\n",
              "    </div>\n",
              "  </div>\n"
            ],
            "application/vnd.google.colaboratory.intrinsic+json": {
              "type": "dataframe",
              "variable_name": "df",
              "summary": "{\n  \"name\": \"df\",\n  \"rows\": 3804,\n  \"fields\": [\n    {\n      \"column\": \"Unnamed: 0\",\n      \"properties\": {\n        \"dtype\": \"number\",\n        \"std\": 255.01194173977606,\n        \"min\": 0.0,\n        \"max\": 1062.0,\n        \"num_unique_values\": 1063,\n        \"samples\": [\n          31.0,\n          413.0,\n          536.0\n        ],\n        \"semantic_type\": \"\",\n        \"description\": \"\"\n      }\n    },\n    {\n      \"column\": \"source\",\n      \"properties\": {\n        \"dtype\": \"category\",\n        \"num_unique_values\": 123,\n        \"samples\": [\n          \"vk.com/academyofman?w=wall-45595714_8984721\",\n          \"vk.com/academyofman?w=wall-45595714_8975375\",\n          \"vk.com/academyofman?w=wall-45595714_8974402\"\n        ],\n        \"semantic_type\": \"\",\n        \"description\": \"\"\n      }\n    },\n    {\n      \"column\": \"text\",\n      \"properties\": {\n        \"dtype\": \"category\",\n        \"num_unique_values\": 113,\n        \"samples\": [\n          \"\\u0412 \\u041a\\u0440\\u044b\\u043c\\u0443 \\u0432\\u043e\\u043e\\u0440\\u0443\\u0436\\u0435\\u043d\\u043d\\u044b\\u0439 \\u043d\\u0430\\u0433\\u0430\\u0439\\u043a\\u043e\\u0439 \\u043e\\u0445\\u0440\\u0430\\u043d\\u043d\\u0438\\u043a \\u0432\\u044b\\u0433\\u043d\\u0430\\u043b \\u0441 \\u043f\\u043b\\u044f\\u0436\\u0430 \\u0441\\u0435\\u043c\\u044c\\u044e \\u0441 \\u0440\\u0435\\u0431\\u0435\\u043d\\u043a\\u043e\\u043c. \\u041c\\u0443\\u0436\\u0447\\u0438\\u043d\\u0430 \\u0442\\u0430\\u043a\\u0436\\u0435 \\u0432\\u044b\\u0431\\u0438\\u043b \\u0438\\u0437 \\u0440\\u0443\\u043a \\u0436\\u0435\\u043d\\u0449\\u0438\\u043d\\u044b \\u0442\\u0435\\u043b\\u0435\\u0444\\u043e\\u043d, \\u043a\\u043e\\u0433\\u0434\\u0430 \\u043e\\u043d\\u0430 \\u0441\\u043d\\u0438\\u043c\\u0430\\u043b\\u0430 \\u0435\\u0433\\u043e\",\n          \"\\u0444\\u044c\\u044e \\u0444\\u044c\\u044e \\u0444\\u044c\\u044e \\u0431\\u0442\\u0441 \\u0432\\u0435\\u0440\\u0442\\u0435\\u043b\\u0438 \\u043c\\u044b \\u043d\\u0430 \\u0445\\u0443\\u044e\\ud83d\\udc4c\",\n          \"\\u0414\\u0435\\u0439\\u0441\\u0442\\u0432\\u0438\\u0442\\u0435\\u043b\\u044c\\u043d\\u043e\"\n        ],\n        \"semantic_type\": \"\",\n        \"description\": \"\"\n      }\n    },\n    {\n      \"column\": \"message\",\n      \"properties\": {\n        \"dtype\": \"string\",\n        \"num_unique_values\": 3760,\n        \"samples\": [\n          \"\\u0415\\u0431\\u0430\\u0442\\u044c, \\u0430\\u0434\\u043c\\u0438\\u043d \\u0412\\u043e\\u0432\\u0430\\u043d\\u0430 \\u0432\\u0441\\u043f\\u043e\\u043c\\u043d\\u0438\\u043b, \\u0430\\u0436 \\u043e\\u043b\\u0434\\u0441\\u043a\\u0443\\u043b\\u044b \\u0441\\u0432\\u0435\\u043b\\u043e.\",\n          \"[id328120628|\\u0418\\u043b\\u044c\\u044f], \\u0431\\u0435\\u0437 \\u0443\\u0447\\u0430\\u0441\\u0442\\u0438\\u044f \\\"\\u0441\\u0442\\u0430\\u0440\\u0438\\u0447\\u043a\\u043e\\u0432\\\", \\u0430 \\u0432\\u0435\\u0440\\u043d\\u0435\\u0435 \\u0441\\u043a\\u0430\\u0437\\u0430\\u0442\\u044c \\u043e\\u0433\\u043e\\u043b\\u0442\\u0435\\u043b\\u044b\\u0445 \\u0438\\u0434\\u0438\\u043e\\u0442\\u043e\\u0432 \\u043f\\u043e\\u0431\\u0435\\u0436\\u0430\\u0432\\u0448\\u0438\\u0445 \\u0437\\u0430 \\u041e\\u043a\\u0441\\u0438 \\u043d\\u0430 \\u0441\\u0435\\u043c\\u043d\\u0430\\u0445\\u0443, \\u0442\\u044b \\u0438 \\u043f\\u0440\\u0435\\u0434\\u0441\\u0442\\u0430\\u0432\\u0438\\u0442\\u044c \\u043d\\u0435 \\u043c\\u043e\\u0436\\u0435\\u0448\\u044c \\u0441\\u043a\\u043e\\u043b\\u044c\\u043a\\u043e \\u0431\\u044b \\u043d\\u043e\\u0432\\u044b\\u0445 \\u0438\\u043c\\u0451\\u043d \\u043e\\u0442\\u043a\\u0440\\u044b\\u043b\\u043e\\u0441\\u044c \\u0431\\u044b. \\u0412\\u0435\\u043a\\u0442\\u043e\\u0440 \\u0431\\u044b \\u0445\\u0438\\u043f-\\u0445\\u043e\\u043f\\u0430 \\u043c\\u043e\\u0433 \\u0431\\u044b \\u0434\\u0430\\u0436\\u0435 \\u0438\\u0437\\u043c\\u0435\\u043d\\u0438\\u0442\\u0441\\u044f. \\u041d\\u043e, \\u043d\\u0435\\u0442, \\u0438\\u043c\\u0435\\u0435\\u043c \\u0444\\u0438\\u043d\\u0430\\u043b \\u0434\\u0432\\u0443\\u0445 \\u0434\\u0438\\u043d\\u043e\\u0437\\u0430\\u0432\\u0440\\u043e\\u0432, \\u0430 \\u043f\\u043e\\u043b\\u0443\\u0444\\u0438\\u043d\\u0430\\u043b \\u0431\\u043e\\u043b\\u0435\\u0435 \\u0438\\u043b\\u0438 \\u043c\\u0435\\u043d\\u0435\\u0435 \\u0438\\u043c\\u0435\\u043d\\u0438\\u0442\\u044b\\u0445, \\u043a\\u0430\\u043a \\u0438 \\u0432\\u0441\\u0451 \\u043d\\u0430\\u0447\\u0438\\u043d\\u0430\\u044f \\u0441 \\u0440\\u0430\\u0443\\u043d\\u0434\\u0430 5\\u0433\\u043e. \\u0422\\u0430\\u043a \\u0447\\u0442\\u043e \\u0434\\u043b\\u044f \\u043e\\u0441\\u0432\\u0435\\u0434\\u043e\\u043c\\u043b\\u0435\\u043d\\u043d\\u043e\\u0433\\u043e \\u0437\\u0440\\u0438\\u0442\\u0435\\u043b\\u044f \\u0431\\u044d\\u0442\\u0442\\u043b \\u0440\\u044d\\u043f\\u0430 \\u0441\\u0435\\u043c\\u043d\\u0430\\u0445\\u0430 \\u043d\\u0438\\u0447\\u0435\\u0433\\u043e \\u043d\\u043e\\u0432\\u043e\\u0433\\u043e \\u0440\\u043e\\u0432\\u043d\\u044b\\u043c \\u0441\\u0447\\u0451\\u0442\\u043e\\u043c \\u043d\\u0435 \\u0434\\u0430\\u043b\\u0430, \\u043a\\u0440\\u043e\\u043c\\u0435 \\u043a\\u0430\\u043a \\u043d\\u043e\\u0432\\u0443\\u044e \\u043f\\u0440\\u043e\\u0431\\u0438\\u0442\\u0443\\u044e \\u0434\\u044b\\u0440\\u0443 \\u0432 \\u0434\\u043d\\u0435\",\n          \"[id329955098|\\u042f\\u043d], \\u043d\\u043e \\u0435\\u0441\\u043b\\u0438 \\\"\\u0444\\u0438\\u043d\\u0430\\u043b\\u044c\\u043d\\u0430\\u044f \\u0440\\u0430\\u043a\\u0435\\u0442\\u0430\\\" \\u0431\\u0443\\u0434\\u0435\\u0442 \\u0434\\u0440\\u0443\\u0433\\u043e\\u0439, \\u0442\\u043e \\u0437\\u043d\\u0430\\u0447\\u0438\\u0442 \\u043e\\u043d\\u0430 - \\u043d\\u0435 \\u043f\\u0440\\u043e\\u0442\\u043e\\u0442\\u0438\\u043f. \\u0414\\u0430 \\u0438 \\u0441\\u043c\\u044b\\u0441\\u043b \\u0438\\u0441\\u043f\\u044b\\u0442\\u044b\\u0432\\u0430\\u0442\\u044c \\u0430\\u043f\\u043f\\u0430\\u0440\\u0430\\u0442, \\u0440\\u0430\\u0437\\u0438\\u0442\\u0435\\u043b\\u044c\\u043d\\u043e \\u043e\\u0442\\u043b\\u0438\\u0447\\u0430\\u044e\\u0449\\u0438\\u0439\\u0441\\u044f \\u043e\\u0442 \\u043f\\u043b\\u0430\\u043d\\u0438\\u0440\\u0443\\u0435\\u043c\\u043e\\u0433\\u043e? \\u0421\\u043c\\u044b\\u0441\\u043b \\u0442\\u0430\\u043a\\u0438\\u0445 \\u0438\\u0441\\u043f\\u044b\\u0442\\u0430\\u043d\\u0438\\u0439? \\u041f\\u043e\\u043b\\u0443\\u0447\\u0430\\u0435\\u0442\\u0441\\u044f, \\u043e\\u043d\\u0438 \\u043d\\u0435 \\u0442\\u043e \\u0438\\u0441\\u043f\\u044b\\u0442\\u044b\\u0432\\u0430\\u044e\\u0442.\"\n        ],\n        \"semantic_type\": \"\",\n        \"description\": \"\"\n      }\n    },\n    {\n      \"column\": \"sex\",\n      \"properties\": {\n        \"dtype\": \"category\",\n        \"num_unique_values\": 4,\n        \"samples\": [\n          \"?\",\n          \"sex\",\n          \"male\"\n        ],\n        \"semantic_type\": \"\",\n        \"description\": \"\"\n      }\n    },\n    {\n      \"column\": \"decent\",\n      \"properties\": {\n        \"dtype\": \"category\",\n        \"num_unique_values\": 3,\n        \"samples\": [\n          \"obscene\",\n          \"decent\",\n          \"unmarked\"\n        ],\n        \"semantic_type\": \"\",\n        \"description\": \"\"\n      }\n    },\n    {\n      \"column\": \"moral\",\n      \"properties\": {\n        \"dtype\": \"category\",\n        \"num_unique_values\": 4,\n        \"samples\": [\n          \"immoral\",\n          \"unmarked\",\n          \"moral\"\n        ],\n        \"semantic_type\": \"\",\n        \"description\": \"\"\n      }\n    },\n    {\n      \"column\": \"person\",\n      \"properties\": {\n        \"dtype\": \"category\",\n        \"num_unique_values\": 5,\n        \"samples\": [\n          \"imperson\",\n          \"skipped\",\n          \"unmarked\"\n        ],\n        \"semantic_type\": \"\",\n        \"description\": \"\"\n      }\n    }\n  ]\n}"
            }
          },
          "metadata": {},
          "execution_count": 38
        }
      ]
    },
    {
      "cell_type": "markdown",
      "source": [
        "Первые 10 комментариев вытащил из датасета и в виде списка \"скормил\" сети."
      ],
      "metadata": {
        "id": "CHKqq60tpI85"
      }
    },
    {
      "cell_type": "code",
      "source": [
        "comment_analysis(df['message'].to_list()[:10])"
      ],
      "metadata": {
        "colab": {
          "base_uri": "https://localhost:8080/"
        },
        "id": "8970-mXCC5JT",
        "outputId": "4577432a-c668-4f73-bbc4-181c2d81273c"
      },
      "execution_count": 39,
      "outputs": [
        {
          "output_type": "execute_result",
          "data": {
            "text/plain": [
              "[{'label': 'insult', 'score': 0.9976024031639099},\n",
              " {'label': 'insult', 'score': 0.998201847076416},\n",
              " {'label': 'non-toxic', 'score': 0.9232109785079956},\n",
              " {'label': 'insult', 'score': 0.9437145590782166},\n",
              " {'label': 'non-toxic', 'score': 0.9994542002677917},\n",
              " {'label': 'non-toxic', 'score': 0.9930651187896729},\n",
              " {'label': 'insult', 'score': 0.9986327290534973},\n",
              " {'label': 'non-toxic', 'score': 0.8525521755218506},\n",
              " {'label': 'insult', 'score': 0.9979945421218872},\n",
              " {'label': 'non-toxic', 'score': 0.9841513633728027}]"
            ]
          },
          "metadata": {},
          "execution_count": 39
        }
      ]
    },
    {
      "cell_type": "markdown",
      "source": [
        "Далее, добавил к датасету столбец с уровнем токсичности комментария"
      ],
      "metadata": {
        "id": "o4CTcnSlpWop"
      }
    },
    {
      "cell_type": "code",
      "source": [
        "df['toxicity'] = df['message'].apply(lambda x: text2toxicity(x, True))"
      ],
      "metadata": {
        "id": "1QSumVjpDXdj"
      },
      "execution_count": 41,
      "outputs": []
    },
    {
      "cell_type": "code",
      "source": [
        "df.head(2)"
      ],
      "metadata": {
        "colab": {
          "base_uri": "https://localhost:8080/",
          "height": 112
        },
        "id": "rHWK1jh7D7zb",
        "outputId": "0362bcea-4cee-4d6e-b96c-ecaf1792c0cd"
      },
      "execution_count": 31,
      "outputs": [
        {
          "output_type": "execute_result",
          "data": {
            "text/plain": [
              "   Unnamed: 0                             source text     message   sex  \\\n",
              "0         0.0  https://vk.com/wall409928036_9302  NaN  Ты долбаеб  male   \n",
              "1         1.0  https://vk.com/wall409928036_9302  NaN     Ты пидр  male   \n",
              "\n",
              "    decent    moral  person  toxicity  \n",
              "0  obscene    moral  person  0.999721  \n",
              "1  obscene  immoral  person  0.999677  "
            ],
            "text/html": [
              "\n",
              "  <div id=\"df-c53a86a5-ab48-4f12-b062-0659ef947ef3\" class=\"colab-df-container\">\n",
              "    <div>\n",
              "<style scoped>\n",
              "    .dataframe tbody tr th:only-of-type {\n",
              "        vertical-align: middle;\n",
              "    }\n",
              "\n",
              "    .dataframe tbody tr th {\n",
              "        vertical-align: top;\n",
              "    }\n",
              "\n",
              "    .dataframe thead th {\n",
              "        text-align: right;\n",
              "    }\n",
              "</style>\n",
              "<table border=\"1\" class=\"dataframe\">\n",
              "  <thead>\n",
              "    <tr style=\"text-align: right;\">\n",
              "      <th></th>\n",
              "      <th>Unnamed: 0</th>\n",
              "      <th>source</th>\n",
              "      <th>text</th>\n",
              "      <th>message</th>\n",
              "      <th>sex</th>\n",
              "      <th>decent</th>\n",
              "      <th>moral</th>\n",
              "      <th>person</th>\n",
              "      <th>toxicity</th>\n",
              "    </tr>\n",
              "  </thead>\n",
              "  <tbody>\n",
              "    <tr>\n",
              "      <th>0</th>\n",
              "      <td>0.0</td>\n",
              "      <td>https://vk.com/wall409928036_9302</td>\n",
              "      <td>NaN</td>\n",
              "      <td>Ты долбаеб</td>\n",
              "      <td>male</td>\n",
              "      <td>obscene</td>\n",
              "      <td>moral</td>\n",
              "      <td>person</td>\n",
              "      <td>0.999721</td>\n",
              "    </tr>\n",
              "    <tr>\n",
              "      <th>1</th>\n",
              "      <td>1.0</td>\n",
              "      <td>https://vk.com/wall409928036_9302</td>\n",
              "      <td>NaN</td>\n",
              "      <td>Ты пидр</td>\n",
              "      <td>male</td>\n",
              "      <td>obscene</td>\n",
              "      <td>immoral</td>\n",
              "      <td>person</td>\n",
              "      <td>0.999677</td>\n",
              "    </tr>\n",
              "  </tbody>\n",
              "</table>\n",
              "</div>\n",
              "    <div class=\"colab-df-buttons\">\n",
              "\n",
              "  <div class=\"colab-df-container\">\n",
              "    <button class=\"colab-df-convert\" onclick=\"convertToInteractive('df-c53a86a5-ab48-4f12-b062-0659ef947ef3')\"\n",
              "            title=\"Convert this dataframe to an interactive table.\"\n",
              "            style=\"display:none;\">\n",
              "\n",
              "  <svg xmlns=\"http://www.w3.org/2000/svg\" height=\"24px\" viewBox=\"0 -960 960 960\">\n",
              "    <path d=\"M120-120v-720h720v720H120Zm60-500h600v-160H180v160Zm220 220h160v-160H400v160Zm0 220h160v-160H400v160ZM180-400h160v-160H180v160Zm440 0h160v-160H620v160ZM180-180h160v-160H180v160Zm440 0h160v-160H620v160Z\"/>\n",
              "  </svg>\n",
              "    </button>\n",
              "\n",
              "  <style>\n",
              "    .colab-df-container {\n",
              "      display:flex;\n",
              "      gap: 12px;\n",
              "    }\n",
              "\n",
              "    .colab-df-convert {\n",
              "      background-color: #E8F0FE;\n",
              "      border: none;\n",
              "      border-radius: 50%;\n",
              "      cursor: pointer;\n",
              "      display: none;\n",
              "      fill: #1967D2;\n",
              "      height: 32px;\n",
              "      padding: 0 0 0 0;\n",
              "      width: 32px;\n",
              "    }\n",
              "\n",
              "    .colab-df-convert:hover {\n",
              "      background-color: #E2EBFA;\n",
              "      box-shadow: 0px 1px 2px rgba(60, 64, 67, 0.3), 0px 1px 3px 1px rgba(60, 64, 67, 0.15);\n",
              "      fill: #174EA6;\n",
              "    }\n",
              "\n",
              "    .colab-df-buttons div {\n",
              "      margin-bottom: 4px;\n",
              "    }\n",
              "\n",
              "    [theme=dark] .colab-df-convert {\n",
              "      background-color: #3B4455;\n",
              "      fill: #D2E3FC;\n",
              "    }\n",
              "\n",
              "    [theme=dark] .colab-df-convert:hover {\n",
              "      background-color: #434B5C;\n",
              "      box-shadow: 0px 1px 3px 1px rgba(0, 0, 0, 0.15);\n",
              "      filter: drop-shadow(0px 1px 2px rgba(0, 0, 0, 0.3));\n",
              "      fill: #FFFFFF;\n",
              "    }\n",
              "  </style>\n",
              "\n",
              "    <script>\n",
              "      const buttonEl =\n",
              "        document.querySelector('#df-c53a86a5-ab48-4f12-b062-0659ef947ef3 button.colab-df-convert');\n",
              "      buttonEl.style.display =\n",
              "        google.colab.kernel.accessAllowed ? 'block' : 'none';\n",
              "\n",
              "      async function convertToInteractive(key) {\n",
              "        const element = document.querySelector('#df-c53a86a5-ab48-4f12-b062-0659ef947ef3');\n",
              "        const dataTable =\n",
              "          await google.colab.kernel.invokeFunction('convertToInteractive',\n",
              "                                                    [key], {});\n",
              "        if (!dataTable) return;\n",
              "\n",
              "        const docLinkHtml = 'Like what you see? Visit the ' +\n",
              "          '<a target=\"_blank\" href=https://colab.research.google.com/notebooks/data_table.ipynb>data table notebook</a>'\n",
              "          + ' to learn more about interactive tables.';\n",
              "        element.innerHTML = '';\n",
              "        dataTable['output_type'] = 'display_data';\n",
              "        await google.colab.output.renderOutput(dataTable, element);\n",
              "        const docLink = document.createElement('div');\n",
              "        docLink.innerHTML = docLinkHtml;\n",
              "        element.appendChild(docLink);\n",
              "      }\n",
              "    </script>\n",
              "  </div>\n",
              "\n",
              "\n",
              "<div id=\"df-021b22ab-37e4-4df7-bf61-c681edc2ce35\">\n",
              "  <button class=\"colab-df-quickchart\" onclick=\"quickchart('df-021b22ab-37e4-4df7-bf61-c681edc2ce35')\"\n",
              "            title=\"Suggest charts\"\n",
              "            style=\"display:none;\">\n",
              "\n",
              "<svg xmlns=\"http://www.w3.org/2000/svg\" height=\"24px\"viewBox=\"0 0 24 24\"\n",
              "     width=\"24px\">\n",
              "    <g>\n",
              "        <path d=\"M19 3H5c-1.1 0-2 .9-2 2v14c0 1.1.9 2 2 2h14c1.1 0 2-.9 2-2V5c0-1.1-.9-2-2-2zM9 17H7v-7h2v7zm4 0h-2V7h2v10zm4 0h-2v-4h2v4z\"/>\n",
              "    </g>\n",
              "</svg>\n",
              "  </button>\n",
              "\n",
              "<style>\n",
              "  .colab-df-quickchart {\n",
              "      --bg-color: #E8F0FE;\n",
              "      --fill-color: #1967D2;\n",
              "      --hover-bg-color: #E2EBFA;\n",
              "      --hover-fill-color: #174EA6;\n",
              "      --disabled-fill-color: #AAA;\n",
              "      --disabled-bg-color: #DDD;\n",
              "  }\n",
              "\n",
              "  [theme=dark] .colab-df-quickchart {\n",
              "      --bg-color: #3B4455;\n",
              "      --fill-color: #D2E3FC;\n",
              "      --hover-bg-color: #434B5C;\n",
              "      --hover-fill-color: #FFFFFF;\n",
              "      --disabled-bg-color: #3B4455;\n",
              "      --disabled-fill-color: #666;\n",
              "  }\n",
              "\n",
              "  .colab-df-quickchart {\n",
              "    background-color: var(--bg-color);\n",
              "    border: none;\n",
              "    border-radius: 50%;\n",
              "    cursor: pointer;\n",
              "    display: none;\n",
              "    fill: var(--fill-color);\n",
              "    height: 32px;\n",
              "    padding: 0;\n",
              "    width: 32px;\n",
              "  }\n",
              "\n",
              "  .colab-df-quickchart:hover {\n",
              "    background-color: var(--hover-bg-color);\n",
              "    box-shadow: 0 1px 2px rgba(60, 64, 67, 0.3), 0 1px 3px 1px rgba(60, 64, 67, 0.15);\n",
              "    fill: var(--button-hover-fill-color);\n",
              "  }\n",
              "\n",
              "  .colab-df-quickchart-complete:disabled,\n",
              "  .colab-df-quickchart-complete:disabled:hover {\n",
              "    background-color: var(--disabled-bg-color);\n",
              "    fill: var(--disabled-fill-color);\n",
              "    box-shadow: none;\n",
              "  }\n",
              "\n",
              "  .colab-df-spinner {\n",
              "    border: 2px solid var(--fill-color);\n",
              "    border-color: transparent;\n",
              "    border-bottom-color: var(--fill-color);\n",
              "    animation:\n",
              "      spin 1s steps(1) infinite;\n",
              "  }\n",
              "\n",
              "  @keyframes spin {\n",
              "    0% {\n",
              "      border-color: transparent;\n",
              "      border-bottom-color: var(--fill-color);\n",
              "      border-left-color: var(--fill-color);\n",
              "    }\n",
              "    20% {\n",
              "      border-color: transparent;\n",
              "      border-left-color: var(--fill-color);\n",
              "      border-top-color: var(--fill-color);\n",
              "    }\n",
              "    30% {\n",
              "      border-color: transparent;\n",
              "      border-left-color: var(--fill-color);\n",
              "      border-top-color: var(--fill-color);\n",
              "      border-right-color: var(--fill-color);\n",
              "    }\n",
              "    40% {\n",
              "      border-color: transparent;\n",
              "      border-right-color: var(--fill-color);\n",
              "      border-top-color: var(--fill-color);\n",
              "    }\n",
              "    60% {\n",
              "      border-color: transparent;\n",
              "      border-right-color: var(--fill-color);\n",
              "    }\n",
              "    80% {\n",
              "      border-color: transparent;\n",
              "      border-right-color: var(--fill-color);\n",
              "      border-bottom-color: var(--fill-color);\n",
              "    }\n",
              "    90% {\n",
              "      border-color: transparent;\n",
              "      border-bottom-color: var(--fill-color);\n",
              "    }\n",
              "  }\n",
              "</style>\n",
              "\n",
              "  <script>\n",
              "    async function quickchart(key) {\n",
              "      const quickchartButtonEl =\n",
              "        document.querySelector('#' + key + ' button');\n",
              "      quickchartButtonEl.disabled = true;  // To prevent multiple clicks.\n",
              "      quickchartButtonEl.classList.add('colab-df-spinner');\n",
              "      try {\n",
              "        const charts = await google.colab.kernel.invokeFunction(\n",
              "            'suggestCharts', [key], {});\n",
              "      } catch (error) {\n",
              "        console.error('Error during call to suggestCharts:', error);\n",
              "      }\n",
              "      quickchartButtonEl.classList.remove('colab-df-spinner');\n",
              "      quickchartButtonEl.classList.add('colab-df-quickchart-complete');\n",
              "    }\n",
              "    (() => {\n",
              "      let quickchartButtonEl =\n",
              "        document.querySelector('#df-021b22ab-37e4-4df7-bf61-c681edc2ce35 button');\n",
              "      quickchartButtonEl.style.display =\n",
              "        google.colab.kernel.accessAllowed ? 'block' : 'none';\n",
              "    })();\n",
              "  </script>\n",
              "</div>\n",
              "\n",
              "    </div>\n",
              "  </div>\n"
            ],
            "application/vnd.google.colaboratory.intrinsic+json": {
              "type": "dataframe",
              "variable_name": "df",
              "summary": "{\n  \"name\": \"df\",\n  \"rows\": 3804,\n  \"fields\": [\n    {\n      \"column\": \"Unnamed: 0\",\n      \"properties\": {\n        \"dtype\": \"number\",\n        \"std\": 255.01194173977606,\n        \"min\": 0.0,\n        \"max\": 1062.0,\n        \"num_unique_values\": 1063,\n        \"samples\": [\n          31.0,\n          413.0,\n          536.0\n        ],\n        \"semantic_type\": \"\",\n        \"description\": \"\"\n      }\n    },\n    {\n      \"column\": \"source\",\n      \"properties\": {\n        \"dtype\": \"category\",\n        \"num_unique_values\": 123,\n        \"samples\": [\n          \"vk.com/academyofman?w=wall-45595714_8984721\",\n          \"vk.com/academyofman?w=wall-45595714_8975375\",\n          \"vk.com/academyofman?w=wall-45595714_8974402\"\n        ],\n        \"semantic_type\": \"\",\n        \"description\": \"\"\n      }\n    },\n    {\n      \"column\": \"text\",\n      \"properties\": {\n        \"dtype\": \"category\",\n        \"num_unique_values\": 113,\n        \"samples\": [\n          \"\\u0412 \\u041a\\u0440\\u044b\\u043c\\u0443 \\u0432\\u043e\\u043e\\u0440\\u0443\\u0436\\u0435\\u043d\\u043d\\u044b\\u0439 \\u043d\\u0430\\u0433\\u0430\\u0439\\u043a\\u043e\\u0439 \\u043e\\u0445\\u0440\\u0430\\u043d\\u043d\\u0438\\u043a \\u0432\\u044b\\u0433\\u043d\\u0430\\u043b \\u0441 \\u043f\\u043b\\u044f\\u0436\\u0430 \\u0441\\u0435\\u043c\\u044c\\u044e \\u0441 \\u0440\\u0435\\u0431\\u0435\\u043d\\u043a\\u043e\\u043c. \\u041c\\u0443\\u0436\\u0447\\u0438\\u043d\\u0430 \\u0442\\u0430\\u043a\\u0436\\u0435 \\u0432\\u044b\\u0431\\u0438\\u043b \\u0438\\u0437 \\u0440\\u0443\\u043a \\u0436\\u0435\\u043d\\u0449\\u0438\\u043d\\u044b \\u0442\\u0435\\u043b\\u0435\\u0444\\u043e\\u043d, \\u043a\\u043e\\u0433\\u0434\\u0430 \\u043e\\u043d\\u0430 \\u0441\\u043d\\u0438\\u043c\\u0430\\u043b\\u0430 \\u0435\\u0433\\u043e\",\n          \"\\u0444\\u044c\\u044e \\u0444\\u044c\\u044e \\u0444\\u044c\\u044e \\u0431\\u0442\\u0441 \\u0432\\u0435\\u0440\\u0442\\u0435\\u043b\\u0438 \\u043c\\u044b \\u043d\\u0430 \\u0445\\u0443\\u044e\\ud83d\\udc4c\",\n          \"\\u0414\\u0435\\u0439\\u0441\\u0442\\u0432\\u0438\\u0442\\u0435\\u043b\\u044c\\u043d\\u043e\"\n        ],\n        \"semantic_type\": \"\",\n        \"description\": \"\"\n      }\n    },\n    {\n      \"column\": \"message\",\n      \"properties\": {\n        \"dtype\": \"string\",\n        \"num_unique_values\": 3760,\n        \"samples\": [\n          \"\\u0415\\u0431\\u0430\\u0442\\u044c, \\u0430\\u0434\\u043c\\u0438\\u043d \\u0412\\u043e\\u0432\\u0430\\u043d\\u0430 \\u0432\\u0441\\u043f\\u043e\\u043c\\u043d\\u0438\\u043b, \\u0430\\u0436 \\u043e\\u043b\\u0434\\u0441\\u043a\\u0443\\u043b\\u044b \\u0441\\u0432\\u0435\\u043b\\u043e.\",\n          \"[id328120628|\\u0418\\u043b\\u044c\\u044f], \\u0431\\u0435\\u0437 \\u0443\\u0447\\u0430\\u0441\\u0442\\u0438\\u044f \\\"\\u0441\\u0442\\u0430\\u0440\\u0438\\u0447\\u043a\\u043e\\u0432\\\", \\u0430 \\u0432\\u0435\\u0440\\u043d\\u0435\\u0435 \\u0441\\u043a\\u0430\\u0437\\u0430\\u0442\\u044c \\u043e\\u0433\\u043e\\u043b\\u0442\\u0435\\u043b\\u044b\\u0445 \\u0438\\u0434\\u0438\\u043e\\u0442\\u043e\\u0432 \\u043f\\u043e\\u0431\\u0435\\u0436\\u0430\\u0432\\u0448\\u0438\\u0445 \\u0437\\u0430 \\u041e\\u043a\\u0441\\u0438 \\u043d\\u0430 \\u0441\\u0435\\u043c\\u043d\\u0430\\u0445\\u0443, \\u0442\\u044b \\u0438 \\u043f\\u0440\\u0435\\u0434\\u0441\\u0442\\u0430\\u0432\\u0438\\u0442\\u044c \\u043d\\u0435 \\u043c\\u043e\\u0436\\u0435\\u0448\\u044c \\u0441\\u043a\\u043e\\u043b\\u044c\\u043a\\u043e \\u0431\\u044b \\u043d\\u043e\\u0432\\u044b\\u0445 \\u0438\\u043c\\u0451\\u043d \\u043e\\u0442\\u043a\\u0440\\u044b\\u043b\\u043e\\u0441\\u044c \\u0431\\u044b. \\u0412\\u0435\\u043a\\u0442\\u043e\\u0440 \\u0431\\u044b \\u0445\\u0438\\u043f-\\u0445\\u043e\\u043f\\u0430 \\u043c\\u043e\\u0433 \\u0431\\u044b \\u0434\\u0430\\u0436\\u0435 \\u0438\\u0437\\u043c\\u0435\\u043d\\u0438\\u0442\\u0441\\u044f. \\u041d\\u043e, \\u043d\\u0435\\u0442, \\u0438\\u043c\\u0435\\u0435\\u043c \\u0444\\u0438\\u043d\\u0430\\u043b \\u0434\\u0432\\u0443\\u0445 \\u0434\\u0438\\u043d\\u043e\\u0437\\u0430\\u0432\\u0440\\u043e\\u0432, \\u0430 \\u043f\\u043e\\u043b\\u0443\\u0444\\u0438\\u043d\\u0430\\u043b \\u0431\\u043e\\u043b\\u0435\\u0435 \\u0438\\u043b\\u0438 \\u043c\\u0435\\u043d\\u0435\\u0435 \\u0438\\u043c\\u0435\\u043d\\u0438\\u0442\\u044b\\u0445, \\u043a\\u0430\\u043a \\u0438 \\u0432\\u0441\\u0451 \\u043d\\u0430\\u0447\\u0438\\u043d\\u0430\\u044f \\u0441 \\u0440\\u0430\\u0443\\u043d\\u0434\\u0430 5\\u0433\\u043e. \\u0422\\u0430\\u043a \\u0447\\u0442\\u043e \\u0434\\u043b\\u044f \\u043e\\u0441\\u0432\\u0435\\u0434\\u043e\\u043c\\u043b\\u0435\\u043d\\u043d\\u043e\\u0433\\u043e \\u0437\\u0440\\u0438\\u0442\\u0435\\u043b\\u044f \\u0431\\u044d\\u0442\\u0442\\u043b \\u0440\\u044d\\u043f\\u0430 \\u0441\\u0435\\u043c\\u043d\\u0430\\u0445\\u0430 \\u043d\\u0438\\u0447\\u0435\\u0433\\u043e \\u043d\\u043e\\u0432\\u043e\\u0433\\u043e \\u0440\\u043e\\u0432\\u043d\\u044b\\u043c \\u0441\\u0447\\u0451\\u0442\\u043e\\u043c \\u043d\\u0435 \\u0434\\u0430\\u043b\\u0430, \\u043a\\u0440\\u043e\\u043c\\u0435 \\u043a\\u0430\\u043a \\u043d\\u043e\\u0432\\u0443\\u044e \\u043f\\u0440\\u043e\\u0431\\u0438\\u0442\\u0443\\u044e \\u0434\\u044b\\u0440\\u0443 \\u0432 \\u0434\\u043d\\u0435\",\n          \"[id329955098|\\u042f\\u043d], \\u043d\\u043e \\u0435\\u0441\\u043b\\u0438 \\\"\\u0444\\u0438\\u043d\\u0430\\u043b\\u044c\\u043d\\u0430\\u044f \\u0440\\u0430\\u043a\\u0435\\u0442\\u0430\\\" \\u0431\\u0443\\u0434\\u0435\\u0442 \\u0434\\u0440\\u0443\\u0433\\u043e\\u0439, \\u0442\\u043e \\u0437\\u043d\\u0430\\u0447\\u0438\\u0442 \\u043e\\u043d\\u0430 - \\u043d\\u0435 \\u043f\\u0440\\u043e\\u0442\\u043e\\u0442\\u0438\\u043f. \\u0414\\u0430 \\u0438 \\u0441\\u043c\\u044b\\u0441\\u043b \\u0438\\u0441\\u043f\\u044b\\u0442\\u044b\\u0432\\u0430\\u0442\\u044c \\u0430\\u043f\\u043f\\u0430\\u0440\\u0430\\u0442, \\u0440\\u0430\\u0437\\u0438\\u0442\\u0435\\u043b\\u044c\\u043d\\u043e \\u043e\\u0442\\u043b\\u0438\\u0447\\u0430\\u044e\\u0449\\u0438\\u0439\\u0441\\u044f \\u043e\\u0442 \\u043f\\u043b\\u0430\\u043d\\u0438\\u0440\\u0443\\u0435\\u043c\\u043e\\u0433\\u043e? \\u0421\\u043c\\u044b\\u0441\\u043b \\u0442\\u0430\\u043a\\u0438\\u0445 \\u0438\\u0441\\u043f\\u044b\\u0442\\u0430\\u043d\\u0438\\u0439? \\u041f\\u043e\\u043b\\u0443\\u0447\\u0430\\u0435\\u0442\\u0441\\u044f, \\u043e\\u043d\\u0438 \\u043d\\u0435 \\u0442\\u043e \\u0438\\u0441\\u043f\\u044b\\u0442\\u044b\\u0432\\u0430\\u044e\\u0442.\"\n        ],\n        \"semantic_type\": \"\",\n        \"description\": \"\"\n      }\n    },\n    {\n      \"column\": \"sex\",\n      \"properties\": {\n        \"dtype\": \"category\",\n        \"num_unique_values\": 4,\n        \"samples\": [\n          \"?\",\n          \"sex\",\n          \"male\"\n        ],\n        \"semantic_type\": \"\",\n        \"description\": \"\"\n      }\n    },\n    {\n      \"column\": \"decent\",\n      \"properties\": {\n        \"dtype\": \"category\",\n        \"num_unique_values\": 3,\n        \"samples\": [\n          \"obscene\",\n          \"decent\",\n          \"unmarked\"\n        ],\n        \"semantic_type\": \"\",\n        \"description\": \"\"\n      }\n    },\n    {\n      \"column\": \"moral\",\n      \"properties\": {\n        \"dtype\": \"category\",\n        \"num_unique_values\": 4,\n        \"samples\": [\n          \"immoral\",\n          \"unmarked\",\n          \"moral\"\n        ],\n        \"semantic_type\": \"\",\n        \"description\": \"\"\n      }\n    },\n    {\n      \"column\": \"person\",\n      \"properties\": {\n        \"dtype\": \"category\",\n        \"num_unique_values\": 5,\n        \"samples\": [\n          \"imperson\",\n          \"skipped\",\n          \"unmarked\"\n        ],\n        \"semantic_type\": \"\",\n        \"description\": \"\"\n      }\n    },\n    {\n      \"column\": \"toxicity\",\n      \"properties\": {\n        \"dtype\": \"number\",\n        \"std\": 0.3912316829097627,\n        \"min\": 0.008133461135573006,\n        \"max\": 0.9999912458782002,\n        \"num_unique_values\": 3730,\n        \"samples\": [\n          0.04825832475690772,\n          0.9545357002481154,\n          0.9994632024390864\n        ],\n        \"semantic_type\": \"\",\n        \"description\": \"\"\n      }\n    }\n  ]\n}"
            }
          },
          "metadata": {},
          "execution_count": 31
        }
      ]
    },
    {
      "cell_type": "markdown",
      "source": [
        "Далее, с помощью Gemini получил код для построения гистограммы токсичности с разбивкой по полу"
      ],
      "metadata": {
        "id": "bE1SGrh_phLC"
      }
    },
    {
      "cell_type": "code",
      "source": [
        "# prompt: create a histogram of toxicity for 2 groups based on sex\n",
        "\n",
        "import matplotlib.pyplot as plt\n",
        "import seaborn as sns\n",
        "\n",
        "# Assuming 'sex' column exists in your DataFrame and contains values like 'male' and 'female'\n",
        "male_toxicity = df[df['sex'] == 'male']['toxicity']\n",
        "female_toxicity = df[df['sex'] == 'female']['toxicity']\n",
        "\n",
        "plt.figure(figsize=(10, 6))\n",
        "sns.histplot(male_toxicity, label='Male', kde=True, color='blue', alpha=0.5)\n",
        "sns.histplot(female_toxicity, label='Female', kde=True, color='red', alpha=0.5)\n",
        "plt.xlabel('Toxicity')\n",
        "plt.ylabel('Frequency')\n",
        "plt.title('Distribution of Toxicity by Sex')\n",
        "plt.legend()\n",
        "plt.show()\n"
      ],
      "metadata": {
        "colab": {
          "base_uri": "https://localhost:8080/",
          "height": 564
        },
        "id": "jjheGJ01ElQT",
        "outputId": "7937d8fe-bf7b-41fe-bf4a-ec1fcf480210"
      },
      "execution_count": 32,
      "outputs": [
        {
          "output_type": "display_data",
          "data": {
            "text/plain": [
              "<Figure size 1000x600 with 1 Axes>"
            ],
            "image/png": "[encoded data removed]"
          },
          "metadata": {}
        }
      ]
    },
    {
      "cell_type": "markdown",
      "source": [
        "Наблюдаем бимодальное распределение <br>\n",
        "Большинство комментариев не являются \"токсичными\"<br>\n",
        "Мужчины явно представлены лучше в данном датасете"
      ],
      "metadata": {
        "id": "_VZ_kMTcqFXj"
      }
    },
    {
      "cell_type": "code",
      "source": [],
      "metadata": {
        "id": "U34flQddsKFZ"
      },
      "execution_count": null,
      "outputs": []
    }
  ]
}