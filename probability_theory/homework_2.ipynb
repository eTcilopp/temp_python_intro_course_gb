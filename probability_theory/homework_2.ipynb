{
  "nbformat": 4,
  "nbformat_minor": 0,
  "metadata": {
    "colab": {
      "provenance": [],
      "authorship_tag": "ABX9TyPvoqZOyA8kHfgdfcdc1WkS",
      "include_colab_link": true
    },
    "kernelspec": {
      "name": "python3",
      "display_name": "Python 3"
    },
    "language_info": {
      "name": "python"
    }
  },
  "cells": [
    {
      "cell_type": "markdown",
      "metadata": {
        "id": "view-in-github",
        "colab_type": "text"
      },
      "source": [
        "<a href=\"https://colab.research.google.com/github/eTcilopp/temp_python_intro_course_gb/blob/master/probability_theory/homework_2.ipynb\" target=\"_parent\"><img src=\"https://colab.research.google.com/assets/colab-badge.svg\" alt=\"Open In Colab\"/></a>"
      ]
    },
    {
      "cell_type": "markdown",
      "source": [
        "# Домашняя работа №2\n",
        "## Задача 1. Вероятность того, что стрелок попадет в мишень, выстрелив один раз, равна 0.8. Стрелок выстрелил 100 раз. Найдите вероятность того, что стрелок попадет в цель ровно 85 раз."
      ],
      "metadata": {
        "id": "nitPGx-s9u67"
      }
    },
    {
      "cell_type": "markdown",
      "source": [
        "Решение. Применим формулу Бернулли\n",
        "$$P\\left(X=k\\right)=C_{n}^{k}\\cdot p^{k}\\cdot q^{n-k}$$\n",
        "\n",
        "$$ P(85)=C^{85}_{100}*0.8^{85}*q^{100-85}$$\n"
      ],
      "metadata": {
        "id": "kfiH0Xax-atH"
      }
    },
    {
      "cell_type": "code",
      "source": [
        "import math\n",
        "def get_combinations_number(n, k):\n",
        "    return math.factorial(n)/math.factorial(k)/math.factorial(n-k)\n",
        "\n",
        "p = get_combinations_number(100, 85)*0.8**85*0.2**(100-85)\n",
        "print(f'P(85)={p}')"
      ],
      "metadata": {
        "colab": {
          "base_uri": "https://localhost:8080/"
        },
        "id": "EOXDs-mV-aU5",
        "outputId": "dbfe9331-934a-4796-bbf4-5cc7e0b5023b"
      },
      "execution_count": 2,
      "outputs": [
        {
          "output_type": "stream",
          "name": "stdout",
          "text": [
            "P(85)=0.04806179370074656\n"
          ]
        }
      ]
    },
    {
      "cell_type": "markdown",
      "source": [
        "## Задача 2. Вероятность того, что лампочка перегорит в течение первого дня эксплуатации, равна 0.0004. В жилом комплексе после ремонта в один день включили 5000 новых лампочек. Какова вероятность, что ни одна из них не перегорит в первый день? Какова вероятность, что перегорят ровно две?\n"
      ],
      "metadata": {
        "id": "-hXXL-X5CiLl"
      }
    },
    {
      "cell_type": "markdown",
      "source": [
        "Решение. Применим формулу Пуассона.\n",
        "$$P_{m}\\approx\\frac{\\lambda^me^{-\\lambda}}{m!}$$\n",
        "$$\\lambda=5000 * 0.0004$$\n",
        "Случай 1\n",
        "$$m_0=0$$\n",
        "Случай 2\n",
        "$$m_2=2$$"
      ],
      "metadata": {
        "id": "a4Rj2cqCCsLY"
      }
    },
    {
      "cell_type": "code",
      "source": [
        "_lambda = 5000 * 0.0004\n",
        "def get_poisson_probability(n,p,m):\n",
        "  _lambda = n * p\n",
        "  return _lambda**m*math.exp(-_lambda)/math.factorial(m)\n",
        "\n",
        "m0 = get_poisson_probability(5000, 0.0004, 0)\n",
        "print(f'Вероятность, что ни одна из лам не перегорят = {m0}')\n",
        "m2 = get_poisson_probability(5000, 0.0004, 2)\n",
        "print(f'Вероятность, что ни перегорят 2 лампы = {m2}')"
      ],
      "metadata": {
        "colab": {
          "base_uri": "https://localhost:8080/"
        },
        "id": "1Aw_dn--C2Bs",
        "outputId": "d7756d8e-7800-4619-b7a3-33780deb69d7"
      },
      "execution_count": 9,
      "outputs": [
        {
          "output_type": "stream",
          "name": "stdout",
          "text": [
            "Вероятность, что ни одна из лам не перегорят = 0.1353352832366127\n",
            "Вероятность, что ни перегорят 2 лампы = 0.2706705664732254\n"
          ]
        }
      ]
    },
    {
      "cell_type": "markdown",
      "source": [
        "## Задача 3. Монету подбросили 144 раза. Какова вероятность, что орел выпадет ровно 70 раз?"
      ],
      "metadata": {
        "id": "Y8lvRTWNMBAi"
      }
    },
    {
      "cell_type": "markdown",
      "source": [
        "Применим формулу Бернулли\n",
        "$$P\\left(X=k\\right)=C_{n}^{k}\\cdot p^{k}\\cdot q^{n-k}$$\n",
        "$$P\\left(X=k\\right)=C_{144}^{70}\\cdot p^{70}\\cdot q^{144-70}$$\n",
        "Где\n",
        "$$p=q=0.5$$\n",
        "\n"
      ],
      "metadata": {
        "id": "-bR2QQIxMHDm"
      }
    },
    {
      "cell_type": "code",
      "source": [
        "p = q = 0.5\n",
        "res = get_combinations_number(144,70)*0.5**(144)\n",
        "print(f'Вероятность, что орел выпадет ровно 70 раз = {res}')"
      ],
      "metadata": {
        "colab": {
          "base_uri": "https://localhost:8080/"
        },
        "id": "kGylGNBpLzK8",
        "outputId": "9e7f78a2-5325-4ad0-b14c-4a4676004852"
      },
      "execution_count": 12,
      "outputs": [
        {
          "output_type": "stream",
          "name": "stdout",
          "text": [
            "Вероятность, что орел выпадет ровно 70 раз = 0.06281178035144776\n"
          ]
        }
      ]
    },
    {
      "cell_type": "markdown",
      "source": [
        "## Задача 4. В первом ящике находится 10 мячей, из которых 7 - белые. Во втором ящике - 11 мячей, из которых 9 белых. Из каждого ящика вытаскивают случайным образом по два мяча.\n",
        "## Какова вероятность того, что все мячи белые?\n"
      ],
      "metadata": {
        "id": "eZL_D9LWOlif"
      }
    },
    {
      "cell_type": "markdown",
      "source": [
        "Решение.\n",
        "4.1 Вытаскивание мячей из разных ящиков - независимые события.\n",
        "Вероятность вытащить 2 белых мяча из ящика 1\n",
        "$$P_1=\\frac{C_7^2}{C_{10}^2}$$\n",
        "Вероятность вытащить 2 белых мяча из ящика 2\n",
        "$$P_2=\\frac{C_9^2}{C_{11}^2}$$\n",
        "Общая вероятность\n",
        "$$P_{общ}=P_1\\cdot P_2$$\n",
        "\n"
      ],
      "metadata": {
        "id": "MWcz56FWO54s"
      }
    },
    {
      "cell_type": "code",
      "source": [
        "p1 = get_combinations_number(7, 2)/get_combinations_number(10,2)\n",
        "p2 = get_combinations_number(9, 2)/get_combinations_number(11,2)\n",
        "p_total=p1*p2\n",
        "print(f'Вероятность того, что все мячи белые = {p_total}')\n",
        "\n"
      ],
      "metadata": {
        "colab": {
          "base_uri": "https://localhost:8080/"
        },
        "id": "-bpK6wvuN-AT",
        "outputId": "45e8ba4f-bdec-4b1c-f788-b7254710beb6"
      },
      "execution_count": 15,
      "outputs": [
        {
          "output_type": "stream",
          "name": "stdout",
          "text": [
            "Вероятность того, что все мячи белые = 0.3054545454545455\n"
          ]
        }
      ]
    },
    {
      "cell_type": "markdown",
      "source": [
        "## Какова вероятность того, что ровно два мяча белые?\n"
      ],
      "metadata": {
        "id": "YmITZ4bcu8Pt"
      }
    },
    {
      "cell_type": "markdown",
      "source": [
        "Решение. 4.2\n",
        "\n",
        "Рассмотрим 3 возможные ситуации:\n",
        "1.\n",
        "2 белых мяча из ящика 1. Уже считали:\n",
        "$$P_1=\\frac{C_7^2}{C_{10}^2}$$\n",
        "Вероятность вытащить 0 белых мячей из ящика 2 (или вытащить только черные мячи)\n",
        "$$P_{2_0}=\\frac{C_2^2}{C_{11}^2}$$\n",
        "\n",
        "2.\n",
        "2 белых мяча из ящика 2. Уже считали\n",
        "$$P_2=\\frac{C_9^2}{C_{11}^2}$$\n",
        "Вероятность вытащить 0 белых мячей из ящика 1 (или вытащить только черные мячи)\n",
        "$$P_{1_0}=\\frac{C_3^2}{C_{10}^2}$$\n",
        "3.\n",
        "3.1 Вероятность вытащить 1 белый  и 1 не белый мяч из ящика 1\n",
        "$$P_{3_1}=\\frac{C_7^1}{C_{10}^1}\\cdot \\frac{C_3^1}{C_9^1}+\\frac{C_3^1}{C_{10}^3}\\cdot \\frac{C_7^1}{C_9^1}$$\n",
        "\n",
        "3.2 Вероятность вытащить 1 белый  и 1 не белый мяч из ящика 2\n",
        "$$P_{3_2}=\\frac{C_9^1}{C_{11}^1}\\cdot \\frac{C_2^1}{C_{10}^1}+\\frac{C_2^1}{C_{11}^3}\\cdot \\frac{C_9^1}{C_{10}^1}$$\n",
        "\n",
        "\n",
        "Общая вероятность\n",
        "$$P_{общ}=P_1\\cdot P_{2_0} + P_2\\cdot P_{1_0} + P_{3_1}\\cdot P_{3_2}$$\n"
      ],
      "metadata": {
        "id": "tVPtJontTi7_"
      }
    },
    {
      "cell_type": "code",
      "source": [
        "p1 = get_combinations_number(7, 2) / get_combinations_number(10, 2)\n",
        "p20 = get_combinations_number(2, 2) / get_combinations_number(11, 2)\n",
        "p2 = get_combinations_number(9, 2) / get_combinations_number(11, 2)\n",
        "p10 = get_combinations_number(3, 2) / get_combinations_number(10, 2)\n",
        "p31 = (\n",
        "    get_combinations_number(7, 1) / get_combinations_number(10, 1) *\n",
        "    get_combinations_number(3, 1) / get_combinations_number(9, 1) +\n",
        "    get_combinations_number(3, 1) / get_combinations_number(10, 1) *\n",
        "    get_combinations_number(7, 1) / get_combinations_number(9, 1)\n",
        ")\n",
        "p32 = (\n",
        "    get_combinations_number(9, 1) / get_combinations_number(11, 1) *\n",
        "    get_combinations_number(2, 1) / get_combinations_number(10, 1) +\n",
        "    get_combinations_number(2, 1) / get_combinations_number(11, 1) *\n",
        "    get_combinations_number(9, 1) / get_combinations_number(10, 1)\n",
        ")\n",
        "\n",
        "\n",
        "p_total = p1 *p20 + p2*p10 +p31*p32\n",
        "print(f'Вероятность того, что ровно два мяча белые = {p_total}')"
      ],
      "metadata": {
        "colab": {
          "base_uri": "https://localhost:8080/"
        },
        "id": "bBkyFszxQ-9t",
        "outputId": "e98fe46d-2fb4-4938-c1ac-0a483996ad5d"
      },
      "execution_count": 40,
      "outputs": [
        {
          "output_type": "stream",
          "name": "stdout",
          "text": [
            "Вероятность того, что ровно два мяча белые = 0.20484848484848484\n"
          ]
        }
      ]
    },
    {
      "cell_type": "markdown",
      "source": [
        "## Какова вероятность того, что хотя бы один мяч белый?"
      ],
      "metadata": {
        "id": "X_XPeOo_vAbo"
      }
    },
    {
      "cell_type": "markdown",
      "source": [
        "Решение.\n",
        "Вероятность вытащить 2 небелых мяча из ящика 1\n",
        "$$P_1=\\frac{C_3^2}{C_{10}^2}$$\n",
        "Вероятность вытащить 2 небелых мяча из ящика 2\n",
        "$$P_2=\\frac{C_2^2}{C_{11}^2}$$\n",
        "Общая вероятность вытащить только не белые мячи\n",
        "$$P_{нб}=P_1\\cdot P_2$$\n",
        "Искомая вероятность того, что хотя бы один мяч белый:\n",
        "$$P=1-P_{нб}$$"
      ],
      "metadata": {
        "id": "3z7eifo3vDb-"
      }
    },
    {
      "cell_type": "code",
      "source": [
        "p1=get_combinations_number(3,2)/get_combinations_number(10,2)\n",
        "p2=get_combinations_number(2,2)/get_combinations_number(11,2)\n",
        "p_nw=p1*p2\n",
        "res=1-p_nw\n",
        "res"
      ],
      "metadata": {
        "colab": {
          "base_uri": "https://localhost:8080/"
        },
        "id": "uVVffQBPng5k",
        "outputId": "333b24f3-8e8f-40e4-9e9e-2dbd728e94d8"
      },
      "execution_count": 38,
      "outputs": [
        {
          "output_type": "execute_result",
          "data": {
            "text/plain": [
              "0.9987878787878788"
            ]
          },
          "metadata": {},
          "execution_count": 38
        }
      ]
    },
    {
      "cell_type": "code",
      "source": [],
      "metadata": {
        "id": "1jM7xlGhxCxq"
      },
      "execution_count": null,
      "outputs": []
    }
  ]
}