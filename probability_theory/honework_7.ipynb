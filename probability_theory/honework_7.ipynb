{
  "nbformat": 4,
  "nbformat_minor": 0,
  "metadata": {
    "colab": {
      "provenance": [],
      "authorship_tag": "ABX9TyOhXOhiOoENzBwWMercL/Ub",
      "include_colab_link": true
    },
    "kernelspec": {
      "name": "python3",
      "display_name": "Python 3"
    },
    "language_info": {
      "name": "python"
    }
  },
  "cells": [
    {
      "cell_type": "markdown",
      "metadata": {
        "id": "view-in-github",
        "colab_type": "text"
      },
      "source": [
        "<a href=\"https://colab.research.google.com/github/eTcilopp/temp_python_intro_course_gb/blob/master/probability_theory/honework_7.ipynb\" target=\"_parent\"><img src=\"https://colab.research.google.com/assets/colab-badge.svg\" alt=\"Open In Colab\"/></a>"
      ]
    },
    {
      "cell_type": "markdown",
      "source": [
        "# Домашняя работа № 7\n",
        "## Задача 1.<br>\n",
        "Выбрать тест и проверить, есть  ли различия между выборками:<br>\n",
        "<br>\n",
        "1 )  Даны две  независимые выборки. Не соблюдается условие нормальности<br>\n",
        "x1  380,420, 290<br>\n",
        "y1 140,360,200,900<br>\n",
        "<br>\n",
        "Сделайте вывод по результатам, полученным с помощью функции<br>\n"
      ],
      "metadata": {
        "id": "5OyqE3fF6jIo"
      }
    },
    {
      "cell_type": "markdown",
      "source": [
        "Решение.\n",
        "Выборки независимы, выборка маленкая (но не меньше 3х), сравниваем 2 группы.<br>\n",
        "Следовательно, применяем критерий Манна-Уитни.<br>\n",
        "Нулевая гипотеза: медианы выборок равны<br>\n",
        "Альтернативная гипотеза: медианы не равны<br>\n",
        "Зададимся уровнем статистической значимости (alpha)\n",
        "$$\\alpha=0.1$$\n"
      ],
      "metadata": {
        "id": "OrUJxmAc64Ac"
      }
    },
    {
      "cell_type": "code",
      "execution_count": 1,
      "metadata": {
        "colab": {
          "base_uri": "https://localhost:8080/"
        },
        "id": "90YLhFwi6eXY",
        "outputId": "7a47bd15-f150-4dcb-ffbc-4aca551cffce"
      },
      "outputs": [
        {
          "output_type": "execute_result",
          "data": {
            "text/plain": [
              "MannwhitneyuResult(statistic=8.0, pvalue=0.6285714285714286)"
            ]
          },
          "metadata": {},
          "execution_count": 1
        }
      ],
      "source": [
        "import numpy as np\n",
        "import scipy.stats as stats\n",
        "\n",
        "x1 = np.array([380, 420, 290])\n",
        "y1 = np.array([140, 360, 200, 900])\n",
        "\n",
        "stats.mannwhitneyu(x1, y1)\n"
      ]
    },
    {
      "cell_type": "markdown",
      "source": [
        "Поскольку pvalue > aplha, верна нулевая гипотеза: медианы выброк равны."
      ],
      "metadata": {
        "id": "Z4eQGXJO8KoI"
      }
    },
    {
      "cell_type": "markdown",
      "source": [
        "# Задача 2.\n",
        "Исследовалось влияние препарата на уровень давления пациентов.<br> Сначала измерялось давление до приема препарата,<br> потом через 10 минут и через 30 минут.<br> Есть ли статистически значимые различия?\n",
        "<br>\n",
        "1е измерение до приема препарата: 150, 160, 165, 145, 155<br>\n",
        "2е измерение через 10 минут: 140, 155, 150,  130, 135<br>\n",
        "3е измерение через 30 минут: 130, 130, 120, 130, 125\n"
      ],
      "metadata": {
        "id": "2yMnVrqX9MBl"
      }
    },
    {
      "cell_type": "markdown",
      "source": [
        "Решение.<br>\n",
        "Имеем ситуацию множественных сравнений, выборки зависимы. <br>Применяем критерий Фридмана.<br>\n",
        "Зададимся уровнем статистической значимости\n",
        "$$\\alpha=0.1$$\n",
        "Нулевая гипотеза: медианы выборок равны<br>\n",
        "Альтернативная гипотеза: медианы не равны"
      ],
      "metadata": {
        "id": "k9l16mla9ZGR"
      }
    },
    {
      "cell_type": "code",
      "source": [
        "measurement_1 = np.array([150, 160, 165, 145, 155])\n",
        "measurement_2 = np.array([140, 155, 150, 130, 135])\n",
        "measurement_3 = np.array([130, 130, 120, 130, 125])\n",
        "\n",
        "stats.friedmanchisquare(measurement_1, measurement_2, measurement_3)"
      ],
      "metadata": {
        "colab": {
          "base_uri": "https://localhost:8080/"
        },
        "id": "RN7PhYsA7n-W",
        "outputId": "b8d60e43-7dfb-4306-9c39-7d70f45dd8aa"
      },
      "execution_count": null,
      "outputs": [
        {
          "output_type": "execute_result",
          "data": {
            "text/plain": [
              "FriedmanchisquareResult(statistic=9.578947368421062, pvalue=0.00831683351100441)"
            ]
          },
          "metadata": {},
          "execution_count": 2
        }
      ]
    },
    {
      "cell_type": "markdown",
      "source": [
        "Значение pvalue < alpha, следовательно, верна альтернативная гипотеза: медианы не равны, есть статистически значимые различия.\n"
      ],
      "metadata": {
        "id": "vyXl3EgH-vhg"
      }
    },
    {
      "cell_type": "markdown",
      "source": [
        "## Задача 3. <br>\n",
        "Сравните 1 и 2 е измерения, предполагая, что 3го измерения через 30 минут не было."
      ],
      "metadata": {
        "id": "Otthx4hY_I-l"
      }
    },
    {
      "cell_type": "markdown",
      "source": [
        "Решение. Имеем 2 зависимые выборки, применяем критерий Уилкосона<br>\n",
        "Зададимся уровнем статистической значимости $$\\alpha=0.1$$\n",
        "Нулевая гипотеза: медианы выборок равны<br>\n",
        "Альтернативная гипотеза: медианы не равны"
      ],
      "metadata": {
        "id": "5KQOwK1p_Ooj"
      }
    },
    {
      "cell_type": "code",
      "source": [
        "measurement_1 = np.array([150, 160, 165, 145, 155])\n",
        "measurement_2 = np.array([140, 155, 150, 130, 135])\n",
        "\n",
        "stats.wilcoxon(measurement_1, measurement_2)\n"
      ],
      "metadata": {
        "colab": {
          "base_uri": "https://localhost:8080/"
        },
        "id": "opJde_Jr-r1f",
        "outputId": "d01df26c-76da-483f-ee0b-90b1fb9c35eb"
      },
      "execution_count": null,
      "outputs": [
        {
          "output_type": "execute_result",
          "data": {
            "text/plain": [
              "WilcoxonResult(statistic=0.0, pvalue=0.0625)"
            ]
          },
          "metadata": {},
          "execution_count": 3
        }
      ]
    },
    {
      "cell_type": "markdown",
      "source": [
        "pvalue < alpha - верна альтернативная гипотеза. Препарат действует уже через 10 минут."
      ],
      "metadata": {
        "id": "bz4T4b1b_7ED"
      }
    },
    {
      "cell_type": "markdown",
      "source": [
        "# Задача 4\n",
        "Даны 3 группы  учеников плавания.<br>\n",
        "В 1 группе время на дистанцию 50 м составляют:<br>\n",
        "56, 60, 62, 55, 71, 67, 59, 58, 64, 67<br>\n",
        "\n",
        "Вторая группа : 57, 58, 69, 48, 72, 70, 68, 71, 50, 53<br>\n",
        "Третья группа: 57, 67, 49, 48, 47, 55, 66, 51, 54"
      ],
      "metadata": {
        "id": "rVwN1g9jATED"
      }
    },
    {
      "cell_type": "markdown",
      "source": [
        "Решение. Имеем 3 независимые группы. Применим критерий Крускала-Уоллиса<br>\n",
        "Зададимся уровнем статистической значимости\n",
        "$$\\alpha=0.1$$\n",
        "Нулевая гипотеза: медианы выборок равны<br>\n",
        "Альтернативная гипотеза: медианы не равны\n"
      ],
      "metadata": {
        "id": "9Dd9uwD4Ae3j"
      }
    },
    {
      "cell_type": "code",
      "source": [
        "gr_1 = np.array([56, 60, 62, 55, 71, 67, 59, 58, 64, 67])\n",
        "gr_2 = np.array([57, 58, 69, 48, 72, 70, 68, 71, 50, 53])\n",
        "gr_3 = np.array([57, 67, 49, 48, 47, 55, 66, 51, 54])\n",
        "\n",
        "stats.kruskal(gr_1, gr_2, gr_3)"
      ],
      "metadata": {
        "colab": {
          "base_uri": "https://localhost:8080/"
        },
        "id": "AysKf0ML_qIW",
        "outputId": "03509957-9a8a-46d5-91b3-58819d84a959"
      },
      "execution_count": null,
      "outputs": [
        {
          "output_type": "execute_result",
          "data": {
            "text/plain": [
              "KruskalResult(statistic=5.465564058257224, pvalue=0.0650380998590494)"
            ]
          },
          "metadata": {},
          "execution_count": 5
        }
      ]
    },
    {
      "cell_type": "markdown",
      "source": [
        "p-value < alpha. Верна альтернативня гипотеза: результаты групп имеют статистически значимую разницу.\n"
      ],
      "metadata": {
        "id": "jYZtqcngBS3M"
      }
    },
    {
      "cell_type": "markdown",
      "source": [
        "# Задача 5.<br>\n",
        "Заявляется, что партия изготавливается со средним арифметическим 2,5 см. <br>\n",
        "Проверить данную гипотезу, если известно, что размеры изделий подчинены нормальному закону распределения.<br>\n",
        "Объем выборки 10, уровень статистической значимости 5%<br>\n",
        "2.51, 2.35, 2.74, 2.56, 2.40, 2.36, 2.65, 2.7, 2.67, 2.34"
      ],
      "metadata": {
        "id": "2ELEQW92CGCk"
      }
    },
    {
      "cell_type": "code",
      "source": [
        "a = np.array([2.51, 2.35, 2.74, 2.56, 2.40, 2.36, 2.65, 2.7, 2.67, 2.34])\n",
        "x_1 = np.mean(a)  # среднее арифметическое для выборки\n",
        "t1 = stats.t.ppf(0.975, 9)\n",
        "d = np.var(a, ddof=1) # несмещенная дисперсия для выборки\n",
        "error = np.sqrt(d)/np.sqrt(len(a))\n",
        "print(f'{x_1-error}...{x_1+error}')"
      ],
      "metadata": {
        "colab": {
          "base_uri": "https://localhost:8080/"
        },
        "id": "l2tgrYdm6uac",
        "outputId": "342e2d9e-2b5b-4c45-d6ed-69a5875b35c6"
      },
      "execution_count": 5,
      "outputs": [
        {
          "output_type": "stream",
          "name": "stdout",
          "text": [
            "2.4782718501360756...2.5777281498639235\n"
          ]
        }
      ]
    },
    {
      "cell_type": "markdown",
      "source": [
        "Решение<br>\n",
        "n=10<br>\n",
        "α=0.05<br>\n",
        "μ=2.5<br>\n",
        "Стандартное отклонение генеральной совокупности (всей партии) не известно - применяем критерий Стьюдента<br>\n",
        "$$t_H=\\frac{{\\overline X}- \\mu}{\\frac {\\sigma_H}{\\sqrt n}}$$\n",
        "где\n",
        "$$\\overline X=\\frac{2.51+2.35+2.74+2.56+2.40+2.36+2.65+2.7+2.67+2.34}{10}=2.528$$\n",
        "\n",
        "$$\\sigma_H = \\sqrt {\\frac {\\sum {(x_i-\\overline x)^2}}{n-1}} = \\sqrt{\\frac{(2.51-2.528)^2+(2.35-2.528)^2+(2.74-2.528)^2+(2.56-2.528)^2+(2.40-2.528)^2+(2.36-2.528)^2+(2.65-2.528)^2+(2.7-2.528)^2+(2.67-2.528)^2+(2.34-2.528)^2}{9}}=0.157254$$\n",
        "\n",
        "\n",
        "Критерий Стьюдента\n",
        "\n",
        "$$t_H=\\frac{{2.528}- 2.5}{\\frac {0.157254}{\\sqrt {10}}}=0.563062$$\n",
        "\n",
        "Теперь получим табличное значение t для $$\\frac {\\alpha}{2}$$\n",
        "\n"
      ],
      "metadata": {
        "id": "3_pCAeWNCYDZ"
      }
    },
    {
      "cell_type": "code",
      "source": [
        "t_table = stats.t.ppf(0.975, 9)\n",
        "print(f'Tабличное значение t: {t_table}')"
      ],
      "metadata": {
        "colab": {
          "base_uri": "https://localhost:8080/"
        },
        "id": "xTh_F0-mBIOW",
        "outputId": "ae94b8bd-8000-4740-c8e6-f63afb6fb338"
      },
      "execution_count": 6,
      "outputs": [
        {
          "output_type": "stream",
          "name": "stdout",
          "text": [
            "Tабличное значение t: 2.2621571627409915\n"
          ]
        }
      ]
    },
    {
      "cell_type": "code",
      "source": [
        "np.var(a, ddof=1)"
      ],
      "metadata": {
        "id": "stqufzgoEIMQ",
        "colab": {
          "base_uri": "https://localhost:8080/"
        },
        "outputId": "6433b252-8fd0-4e59-f685-a6d4f0579c40"
      },
      "execution_count": 4,
      "outputs": [
        {
          "output_type": "execute_result",
          "data": {
            "text/plain": [
              "0.02472888888888891"
            ]
          },
          "metadata": {},
          "execution_count": 4
        }
      ]
    },
    {
      "cell_type": "markdown",
      "source": [
        "Так как абсолютное значение $$t_H < t_{табличное}$$,\n",
        "мы не можем отвергнуть нулевую гипотезу.<br> Т.е. утверждение, что партия изготавливается со средним арифметическим 2,5 см, верно."
      ],
      "metadata": {
        "id": "MVtUnfj-8o3p"
      }
    }
  ]
}