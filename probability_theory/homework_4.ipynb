{
  "nbformat": 4,
  "nbformat_minor": 0,
  "metadata": {
    "colab": {
      "provenance": [],
      "authorship_tag": "ABX9TyPKGG0PtgzBOx5XzE7TR/p9",
      "include_colab_link": true
    },
    "kernelspec": {
      "name": "python3",
      "display_name": "Python 3"
    },
    "language_info": {
      "name": "python"
    }
  },
  "cells": [
    {
      "cell_type": "markdown",
      "metadata": {
        "id": "view-in-github",
        "colab_type": "text"
      },
      "source": [
        "<a href=\"https://colab.research.google.com/github/eTcilopp/temp_python_intro_course_gb/blob/master/probability_theory/homework_4.ipynb\" target=\"_parent\"><img src=\"https://colab.research.google.com/assets/colab-badge.svg\" alt=\"Open In Colab\"/></a>"
      ]
    },
    {
      "cell_type": "markdown",
      "source": [
        "# Домашняя работа 4\n",
        "## Задача 1. Случайная непрерывная величина A имеет равномерное распределение на промежутке (200, 800]. Найдите ее среднее значение и дисперсию."
      ],
      "metadata": {
        "id": "sR6mumL0kZi_"
      }
    },
    {
      "cell_type": "markdown",
      "source": [
        "Решение.\n",
        "Воспользуемся формулой расчета среднего значения для случайной непрерывной величины:\n",
        "$$\\mu = \\frac{a+b}{2}=\\frac{200+800}{2}$$\n",
        "Для расчета дисперсии воспользуемся формулой\n",
        "$$D=\\frac{(b-a)^2}{12}$$"
      ],
      "metadata": {
        "id": "yjQz7tIBkmCw"
      }
    },
    {
      "cell_type": "code",
      "execution_count": null,
      "metadata": {
        "colab": {
          "base_uri": "https://localhost:8080/"
        },
        "id": "WzL7RCFAkY9M",
        "outputId": "c9eddf8f-be45-4975-cb07-4f39e4c0867e"
      },
      "outputs": [
        {
          "output_type": "stream",
          "name": "stdout",
          "text": [
            "среднее значение равно 500.0\n",
            "дисперсия равна 83.33333333333333\n"
          ]
        }
      ],
      "source": [
        "def get_mu(a, b):\n",
        "  return (a+b)/2\n",
        "mu = get_mu(200, 800)\n",
        "d = (200+800)/12\n",
        "print(f'среднее значение равно {mu}\\n'\n",
        "      f'дисперсия равна {d}')"
      ]
    },
    {
      "cell_type": "markdown",
      "source": [
        "## Задача 2. О случайной непрерывной равномерно распределенной величине B известно, что ее дисперсия равна 0.2.<br> Можно ли найти правую границу величины B и ее среднее значение зная, что левая граница равна 0.5?<br> Если да, найдите ее."
      ],
      "metadata": {
        "id": "4_ROu5f4mkO7"
      }
    },
    {
      "cell_type": "markdown",
      "source": [
        "Решение.\n",
        "Воспользуемся формулой расчета дисперсии случайной непрерывной величины\n",
        "$$D=\\frac{(b-a)^2}{12}$$\n",
        "Отсюда искомая правая граница b\n",
        "$$b=\\sqrt{12\\cdot D}+a = \\sqrt{12*0.2}+0.5$$\n",
        "Среднее значение найдем по формуле\n",
        "$$\\mu = \\frac{a+b}{2}$$\n",
        "\n"
      ],
      "metadata": {
        "id": "6FPIwzGkmvZO"
      }
    },
    {
      "cell_type": "code",
      "source": [
        "b=(12*0.2)**0.5+0.5\n",
        "mu = get_mu(0.5, b)\n",
        "print(f'Правая граница величины B: {b}\\n'\n",
        "      f'Среднее значение величины B: {mu}')"
      ],
      "metadata": {
        "colab": {
          "base_uri": "https://localhost:8080/"
        },
        "id": "G1-045ezlx3a",
        "outputId": "276b875c-a6e0-4e7e-adc4-69bcc75daf00"
      },
      "execution_count": null,
      "outputs": [
        {
          "output_type": "stream",
          "name": "stdout",
          "text": [
            "Правая граница величины B: 2.049193338482967\n",
            "Среднее значение величины B: 1.2745966692414834\n"
          ]
        }
      ]
    },
    {
      "cell_type": "markdown",
      "source": [
        "## Задача 3. <br>Непрерывная случайная величина X распределена нормально и задана плотностью распределения <br>f(x) = (1 / (4 * sqrt(2pi))) * exp((-(x+2)**2) / 32)<br>\n",
        "\n",
        "Найдите:<br>\n",
        "а). M(X)<br>\n",
        "б). D(X)<br>\n",
        "в). std(X) (среднее квадратичное отклонение)"
      ],
      "metadata": {
        "id": "EUxirPOJo1gW"
      }
    },
    {
      "cell_type": "markdown",
      "source": [
        "Решение\n",
        "Имеем функцию плотности распределения вероятностей для нормального распределения\n",
        "$$f(x)=\\frac{1}{\\sigma \\sqrt{2\\pi}}e^{-\\frac{(x-a)^2}{2\\sigma^2}}=\\frac{1}{4 \\sqrt{2\\pi}}e^{-\\frac{(x+2)^2}{32}}$$\n",
        "Отсюда\n",
        "$$\\sigma=std(x)=4$$\n",
        "$$\\sigma^2=D(x)=16$$\n",
        "$$a=M(x)=-2$$\n",
        "\n"
      ],
      "metadata": {
        "id": "JkcZsdUZqj3t"
      }
    },
    {
      "cell_type": "code",
      "source": [
        "import numpy as np\n",
        "import seaborn as sns\n",
        "\n",
        "def normal_distribution_pdf(x):\n",
        "    return (1 / (4 * np.sqrt(2 * np.pi))) * np.exp(-((x + 2) ** 2) / 3)\n",
        "\n",
        "x = np.linspace(-8, 5, 1000)\n",
        "y = normal_distribution_pdf(x)\n",
        "ax=sns.lineplot(x=x,y=y)\n",
        "ax.axvline(-2, color='red')\n"
      ],
      "metadata": {
        "colab": {
          "base_uri": "https://localhost:8080/",
          "height": 447
        },
        "id": "kdsCDsP9tcbF",
        "outputId": "d6196681-60d7-4376-d51d-260b511b8588"
      },
      "execution_count": null,
      "outputs": [
        {
          "output_type": "execute_result",
          "data": {
            "text/plain": [
              "<matplotlib.lines.Line2D at 0x7e59a705f5b0>"
            ]
          },
          "metadata": {},
          "execution_count": 15
        },
        {
          "output_type": "display_data",
          "data": {
            "text/plain": [
              "<Figure size 640x480 with 1 Axes>"
            ],
            "image/png": "[encoded data removed]"
          },
          "metadata": {}
        }
      ]
    },
    {
      "cell_type": "markdown",
      "source": [
        "## Задача 4<br>\n",
        "Рост взрослого населения города X имеет нормальное распределение.<br>\n",
        "Причем, средний рост равен 174 см, а среднее квадратичное отклонение равно 8 см.<br>\n",
        "\n",
        "Какова вероятность того, что случайным образом выбранный взрослый человек имеет рост:<br>\n",
        "а). больше 182 см<br>\n",
        "б). больше 190 см<br>\n",
        "в). от 166 см до 190 см<br>\n",
        "г). от 166 см до 182 см<br>\n",
        "д). от 158 см до 190 см<br>\n",
        "е). не выше 150 см или не ниже 190 см<br>\n",
        "ё). не выше 150 см или не ниже 198 см<br>\n",
        "ж). ниже 166 см."
      ],
      "metadata": {
        "id": "gloNtHuZs7s3"
      }
    },
    {
      "cell_type": "markdown",
      "source": [
        "Решение<br>\n",
        "а) Получим  z-оценку для роста 182 см\n",
        "$$z=\\frac{x-\\mu}{\\sigma}$$\n",
        "\n"
      ],
      "metadata": {
        "id": "xQJKQ9DjtEz5"
      }
    },
    {
      "cell_type": "code",
      "source": [
        "def get_z_score(x, mu, sigma):\n",
        "  return (x-mu)/sigma\n",
        "\n",
        "AVERAGE_HEIGHT = 174\n",
        "SIGMA = 8\n",
        "z_182 = get_z_score(182, AVERAGE_HEIGHT, SIGMA)\n",
        "print(f'z-оценка для роста 182 см = {z_182}')"
      ],
      "metadata": {
        "id": "nIpxWgZbn2Jh",
        "colab": {
          "base_uri": "https://localhost:8080/"
        },
        "outputId": "03d4cd53-1508-4a89-f13b-07fd26aa828f"
      },
      "execution_count": 10,
      "outputs": [
        {
          "output_type": "stream",
          "name": "stdout",
          "text": [
            "z-оценка для роста 182 см = 1.0\n"
          ]
        }
      ]
    },
    {
      "cell_type": "markdown",
      "source": [
        "Далее, определим вероятность того, что значение в стандартном нормальном распределении меньше или равно z"
      ],
      "metadata": {
        "id": "ek5ZTL9VHTDE"
      }
    },
    {
      "cell_type": "code",
      "source": [
        "from scipy.stats import norm\n",
        "\n",
        "def probability_from_z_score(z_score):\n",
        "    return norm.cdf(z_score)\n",
        "p_182 = probability_from_z_score(z_182)\n",
        "print('вероятность того, что значение в стандартном нормальном'\n",
        "      f' распределении меньше или равно {z_182} = {p_182}')"
      ],
      "metadata": {
        "colab": {
          "base_uri": "https://localhost:8080/"
        },
        "id": "P3jmTjfuGNPY",
        "outputId": "01704f5e-0602-4b7a-bea2-be0ecb581ac1"
      },
      "execution_count": 11,
      "outputs": [
        {
          "output_type": "stream",
          "name": "stdout",
          "text": [
            "вероятность того, что значение в стандартном нормальном распределении меньше или равно 1.0 = 0.8413447460685429\n"
          ]
        }
      ]
    },
    {
      "cell_type": "markdown",
      "source": [
        "Соответственно, вероятность того, что что случайным образом выбранный взрослый человек имеет рост больше 182 см равна"
      ],
      "metadata": {
        "id": "NLPDCYf8IeQQ"
      }
    },
    {
      "cell_type": "code",
      "source": [
        "p_higher_than_182 = 1 - p_182\n",
        "print(f'Вероятность того, что что случайным образом выбранный взрослый '\n",
        "      f'человек имеет рост больше 182 см равна {p_higher_than_182:0.3f}')"
      ],
      "metadata": {
        "colab": {
          "base_uri": "https://localhost:8080/"
        },
        "id": "D__I28xuHLgn",
        "outputId": "6be7bdf9-bf7a-43af-9b04-06ecf8ad451f"
      },
      "execution_count": 14,
      "outputs": [
        {
          "output_type": "stream",
          "name": "stdout",
          "text": [
            "Вероятность того, что что случайным образом выбранный взрослый человек имеет рост больше 182 см равна 0.159\n"
          ]
        }
      ]
    },
    {
      "cell_type": "markdown",
      "source": [
        "Аналогично можно решить остальные задачи. Для простоты составим функцию, определяющую вероятность больше или меньше определенной величины:"
      ],
      "metadata": {
        "id": "BoK_eE_SJY-l"
      }
    },
    {
      "cell_type": "code",
      "source": [
        "def get_probability(average_height, sigma, more_or_less, value):\n",
        "    z_score = (value-average_height)/sigma\n",
        "    less_probability = norm.cdf(z_score)\n",
        "    if more_or_less.lower() == 'more':\n",
        "      return 1-less_probability\n",
        "    return less_probability\n"
      ],
      "metadata": {
        "id": "N6Ksw0_1JOLw"
      },
      "execution_count": 19,
      "outputs": []
    },
    {
      "cell_type": "markdown",
      "source": [
        "Перепроверим решение задачи а)"
      ],
      "metadata": {
        "id": "rIaZ10SqLW6x"
      }
    },
    {
      "cell_type": "code",
      "source": [
        "print('Вероятность того, что что случайным образом выбранный взрослый '\n",
        "      'человек имеет рост больше 182 см равна '\n",
        "      f'{get_probability(AVERAGE_HEIGHT, SIGMA, \"more\", 182):0.3f}')"
      ],
      "metadata": {
        "colab": {
          "base_uri": "https://localhost:8080/"
        },
        "id": "uf2J4RgPLTsY",
        "outputId": "64300508-be43-4718-df1f-abf29ea5aa36"
      },
      "execution_count": 21,
      "outputs": [
        {
          "output_type": "stream",
          "name": "stdout",
          "text": [
            "Вероятность того, что что случайным образом выбранный взрослый человек имеет рост больше 182 см равна 0.159\n"
          ]
        }
      ]
    },
    {
      "cell_type": "markdown",
      "source": [
        "Ответ сошелся.\n",
        "Решаем задачу б). больше 190 см"
      ],
      "metadata": {
        "id": "8xTKagHLMRk7"
      }
    },
    {
      "cell_type": "code",
      "source": [
        "print('Вероятность того, что что случайным образом выбранный взрослый '\n",
        "      'человек имеет рост больше 190 см равна '\n",
        "      f'{get_probability(AVERAGE_HEIGHT, SIGMA, \"more\", 190):0.3f}')"
      ],
      "metadata": {
        "colab": {
          "base_uri": "https://localhost:8080/"
        },
        "id": "MPDZODBuL5dV",
        "outputId": "e3198f8e-2ae5-4cff-a65a-f07dc7c9b230"
      },
      "execution_count": 29,
      "outputs": [
        {
          "output_type": "stream",
          "name": "stdout",
          "text": [
            "Вероятность того, что что случайным образом выбранный взрослый человек имеет рост больше 190 см равна 0.023\n"
          ]
        }
      ]
    },
    {
      "cell_type": "markdown",
      "source": [
        "Задача в). от 166 см до 190 см"
      ],
      "metadata": {
        "id": "XTc7FlTfMoeX"
      }
    },
    {
      "cell_type": "code",
      "source": [
        "res = get_probability(AVERAGE_HEIGHT, SIGMA, \"less\", 190) - get_probability(AVERAGE_HEIGHT, SIGMA, \"less\", 166)\n",
        "print('Вероятность того, что что случайным образом выбранный взрослый '\n",
        "      'человек имеет рост больше 166 см и меньше 190 см равна '\n",
        "      f'{res:0.3f}')\n"
      ],
      "metadata": {
        "colab": {
          "base_uri": "https://localhost:8080/"
        },
        "id": "6dfoN0V-MfxU",
        "outputId": "e33040c6-813f-47be-8114-cf9692ea22b2"
      },
      "execution_count": 23,
      "outputs": [
        {
          "output_type": "stream",
          "name": "stdout",
          "text": [
            "Вероятность того, что что случайным образом выбранный взрослый человек имеет рост больше 166 см и меньше 190 см равна 0.819\n"
          ]
        }
      ]
    },
    {
      "cell_type": "markdown",
      "source": [
        "Задача г). от 166 см до 182 см"
      ],
      "metadata": {
        "id": "QcTJZII6NOuw"
      }
    },
    {
      "cell_type": "code",
      "source": [
        "res = get_probability(AVERAGE_HEIGHT, SIGMA, \"less\", 182) - get_probability(AVERAGE_HEIGHT, SIGMA, \"less\", 166)\n",
        "print('Вероятность того, что что случайным образом выбранный взрослый '\n",
        "      'человек имеет рост больше 166 см и меньше 182 см равна '\n",
        "      f'{res:0.3f}')"
      ],
      "metadata": {
        "colab": {
          "base_uri": "https://localhost:8080/"
        },
        "id": "wz4-lpq5NJF2",
        "outputId": "336f1b07-e92f-44b7-ab3a-06c294ae2ded"
      },
      "execution_count": 24,
      "outputs": [
        {
          "output_type": "stream",
          "name": "stdout",
          "text": [
            "Вероятность того, что что случайным образом выбранный взрослый человек имеет рост больше 166 см и меньше 182 см равна 0.683\n"
          ]
        }
      ]
    },
    {
      "cell_type": "markdown",
      "source": [
        "Задача д). от 158 см до 190 см"
      ],
      "metadata": {
        "id": "ONmWn4HFNaxm"
      }
    },
    {
      "cell_type": "code",
      "source": [
        "res = get_probability(AVERAGE_HEIGHT, SIGMA, \"less\", 190) - get_probability(AVERAGE_HEIGHT, SIGMA, \"less\", 158)\n",
        "print('Вероятность того, что что случайным образом выбранный взрослый '\n",
        "      'человек имеет рост больше 158 см и меньше 190 см равна '\n",
        "      f'{res:0.3f}')"
      ],
      "metadata": {
        "colab": {
          "base_uri": "https://localhost:8080/"
        },
        "id": "B_S8Ts8VNWfE",
        "outputId": "708a950a-93d3-4a9d-e4d8-e89648d34c72"
      },
      "execution_count": 25,
      "outputs": [
        {
          "output_type": "stream",
          "name": "stdout",
          "text": [
            "Вероятность того, что что случайным образом выбранный взрослый человек имеет рост больше 158 см и меньше 190 см равна 0.954\n"
          ]
        }
      ]
    },
    {
      "cell_type": "markdown",
      "source": [
        "Задача е). не выше 150 см или не ниже 190 см"
      ],
      "metadata": {
        "id": "Qcqs2G5GNtbL"
      }
    },
    {
      "cell_type": "code",
      "source": [
        "res = 1-(get_probability(AVERAGE_HEIGHT, SIGMA, \"less\", 190) - get_probability(AVERAGE_HEIGHT, SIGMA, \"less\", 150))\n",
        "print('Вероятность того, что что случайным образом выбранный взрослый '\n",
        "      'человек имеет рост не больше 158 см или не меньше 190 см равна '\n",
        "      f'{res:0.3f}')"
      ],
      "metadata": {
        "colab": {
          "base_uri": "https://localhost:8080/"
        },
        "id": "FwYlSUdoNmvF",
        "outputId": "9077be0a-975f-4bca-c72e-5dc56bfd0aa6"
      },
      "execution_count": 26,
      "outputs": [
        {
          "output_type": "stream",
          "name": "stdout",
          "text": [
            "Вероятность того, что что случайным образом выбранный взрослый человек имеет рост не больше 158 см или не меньше 190 см равна 0.024\n"
          ]
        }
      ]
    },
    {
      "cell_type": "markdown",
      "source": [
        "Задача ё). не выше 150 см или не ниже 198 см"
      ],
      "metadata": {
        "id": "MK_MN0YGOYoc"
      }
    },
    {
      "cell_type": "code",
      "source": [
        "res = 1-(get_probability(AVERAGE_HEIGHT, SIGMA, \"less\", 198) - get_probability(AVERAGE_HEIGHT, SIGMA, \"less\", 150))\n",
        "print('Вероятность того, что что случайным образом выбранный взрослый '\n",
        "      'человек имеет рост не больше 150 см или не меньше 198 см равна '\n",
        "      f'{res:0.3f}')"
      ],
      "metadata": {
        "colab": {
          "base_uri": "https://localhost:8080/"
        },
        "id": "K6IEZD9yOTjc",
        "outputId": "5ce52578-9f1f-4c50-d9b2-f8f83c878080"
      },
      "execution_count": 27,
      "outputs": [
        {
          "output_type": "stream",
          "name": "stdout",
          "text": [
            "Вероятность того, что что случайным образом выбранный взрослый человек имеет рост не больше 150 см или не меньше 198 см равна 0.003\n"
          ]
        }
      ]
    },
    {
      "cell_type": "markdown",
      "source": [
        "Задача ж). ниже 166 см."
      ],
      "metadata": {
        "id": "ZVREE2RIOlOH"
      }
    },
    {
      "cell_type": "code",
      "source": [
        "res = get_probability(AVERAGE_HEIGHT, SIGMA, \"less\", 166)\n",
        "print('Вероятность того, что что случайным образом выбранный взрослый '\n",
        "      'человек имеет рост меньше 166 см равна '\n",
        "      f'{res:0.3f}')"
      ],
      "metadata": {
        "colab": {
          "base_uri": "https://localhost:8080/"
        },
        "id": "AQYfxjeUOgZ9",
        "outputId": "208baeea-5576-461f-d789-43c2a1ed2a5f"
      },
      "execution_count": 28,
      "outputs": [
        {
          "output_type": "stream",
          "name": "stdout",
          "text": [
            "Вероятность того, что что случайным образом выбранный взрослый человек имеет рост меньше 166 см равна 0.159\n"
          ]
        }
      ]
    }
  ]
}