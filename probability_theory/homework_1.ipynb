{
  "nbformat": 4,
  "nbformat_minor": 0,
  "metadata": {
    "colab": {
      "provenance": [],
      "authorship_tag": "ABX9TyOI8Bn3s3a8HndOHG1xj8r2",
      "include_colab_link": true
    },
    "kernelspec": {
      "name": "python3",
      "display_name": "Python 3"
    },
    "language_info": {
      "name": "python"
    }
  },
  "cells": [
    {
      "cell_type": "markdown",
      "metadata": {
        "id": "view-in-github",
        "colab_type": "text"
      },
      "source": [
        "<a href=\"https://colab.research.google.com/github/eTcilopp/temp_python_intro_course_gb/blob/master/probability_theory/homework_1.ipynb\" target=\"_parent\"><img src=\"https://colab.research.google.com/assets/colab-badge.svg\" alt=\"Open In Colab\"/></a>"
      ]
    },
    {
      "cell_type": "markdown",
      "source": [
        "# Урок 1. Расчет вероятности случайных событий"
      ],
      "metadata": {
        "id": "imSCInHWiIo1"
      }
    },
    {
      "cell_type": "markdown",
      "source": [
        "## Из колоды в 52 карты извлекаются случайным образом 4 карты.\n",
        "###a) Найти вероятность того, что все карты – крести."
      ],
      "metadata": {
        "id": "RZQXDyQFjOwt"
      }
    },
    {
      "cell_type": "markdown",
      "source": [
        "Решение.\n",
        "В колоде четверть карт - крести: 13. Вероятность того, что первая извлеченная карта - крести равна $$C^{13}_{52}$$\n",
        "Вторая карта $$C^{12}_{51}$$\n",
        "Третья $$C^{11}_{50}$$\n",
        "Четвертая $$C^{10}_{49}$$\n",
        "\n",
        "Перемножаем вероятности\n",
        "$$P = C^{13}_{52}*C^{12}_{51}*C^{11}_{50}*C^{10}_{49}$$"
      ],
      "metadata": {
        "id": "BPQ7w-94j9ex"
      }
    },
    {
      "cell_type": "code",
      "source": [
        "p=13/52*12/51*11/50*10/49\n",
        "print(f'Итоговая вероятность: {p:.6f}')"
      ],
      "metadata": {
        "colab": {
          "base_uri": "https://localhost:8080/"
        },
        "id": "xGeK7JQ4jcxg",
        "outputId": "ec624bac-c334-42d9-cba6-81618309d849"
      },
      "execution_count": 9,
      "outputs": [
        {
          "output_type": "stream",
          "name": "stdout",
          "text": [
            "Итоговая вероятность: 0.002641\n"
          ]
        }
      ]
    },
    {
      "cell_type": "markdown",
      "source": [
        "Или по-другому:\n",
        "можно разделить число сочетаний по 4 карты из 13 (одной масти) на общее число сочетаний по 4 карты из 52\n",
        "$$P=\\frac{C^{4}_{13}}{C^{4}_{52}}$$\n",
        "\n",
        "Число сочетаний определяем по формуле\n",
        "$$C^k_{n}=\\frac{n!}{k!\\left(n-k\\right)!}$$\n"
      ],
      "metadata": {
        "id": "1mB7ba8sn3B6"
      }
    },
    {
      "cell_type": "code",
      "source": [
        "import math\n",
        "def get_combinations_number(n, k):\n",
        "    return math.factorial(n)/math.factorial(k)/math.factorial(n-k)\n",
        "\n",
        "p = get_combinations_number(13, 4)/get_combinations_number(52, 4)\n",
        "print(f'Итоговая вероятность: {p:.6f}')\n"
      ],
      "metadata": {
        "colab": {
          "base_uri": "https://localhost:8080/"
        },
        "id": "jdfXzP1NjXLK",
        "outputId": "32546104-6c59-4daa-f98a-920e80692e0a"
      },
      "execution_count": 29,
      "outputs": [
        {
          "output_type": "stream",
          "name": "stdout",
          "text": [
            "Итоговая вероятность: 0.002641\n"
          ]
        }
      ]
    },
    {
      "cell_type": "markdown",
      "source": [
        "### б) Найти вероятность, что среди 4-х карт окажется хотя бы один туз.\n"
      ],
      "metadata": {
        "id": "IrIZ748crYuY"
      }
    },
    {
      "cell_type": "markdown",
      "source": [
        "Я предполагаю, что это новое условие не связано с тем, что все 4 карты - одной масти.\n",
        "Вероятность, что среди 4х карт одной масти НЕ окажется один туз\n",
        "$$P_{(нет тузов)}=\\frac{C^4_{48}}{C^4_{52}}$$\n",
        "\n",
        "Вероятность, что окажется хотя бы один туз:\n",
        "$$P = 1-P_{(нет тузов)}$$\n"
      ],
      "metadata": {
        "id": "eV4sFpGjrn6Q"
      }
    },
    {
      "cell_type": "code",
      "source": [
        "p_no_ace = get_combinations_number(48, 4)/get_combinations_number(52, 4)\n",
        "p = 1-p_no_ace\n",
        "print(f'Вероятность: {p:.6f}')"
      ],
      "metadata": {
        "colab": {
          "base_uri": "https://localhost:8080/"
        },
        "id": "ty91SP86rg6B",
        "outputId": "f680e955-7805-4970-ad4a-acb984a1b308"
      },
      "execution_count": 30,
      "outputs": [
        {
          "output_type": "stream",
          "name": "stdout",
          "text": [
            "Вероятность: 0.281263\n"
          ]
        }
      ]
    },
    {
      "cell_type": "markdown",
      "source": [
        "## 2. На входной двери подъезда установлен кодовый замок, содержащий десять кнопок с цифрами от 0 до 9. Код содержит три цифры, которые нужно нажать одновременно. Какова вероятность того, что человек, не знающий код, откроет дверь с первой попытки?"
      ],
      "metadata": {
        "id": "ZsnQU0Xevcxf"
      }
    },
    {
      "cell_type": "markdown",
      "source": [
        "Решение.\n",
        "Число сочетаний трех цифр на кодовом замке определяем по формуле $$C^k_{n}=\\frac{n!}{k!\\left(n-k\\right)!}$$"
      ],
      "metadata": {
        "id": "ymNe4cg1vj6F"
      }
    },
    {
      "cell_type": "code",
      "source": [
        "c = get_combinations_number(10, 3)\n",
        "print(f'Число комбинаций: {c}')"
      ],
      "metadata": {
        "colab": {
          "base_uri": "https://localhost:8080/"
        },
        "id": "D3BCyGNFve-S",
        "outputId": "8b5aea32-379b-4cb6-f64f-a680b84fd877"
      },
      "execution_count": 31,
      "outputs": [
        {
          "output_type": "stream",
          "name": "stdout",
          "text": [
            "Число комбинаций: 120.0\n"
          ]
        }
      ]
    },
    {
      "cell_type": "markdown",
      "source": [
        "Вероятность открыть дверь с первой попытки равна\n",
        "$$P=\\frac{1}{120}$$"
      ],
      "metadata": {
        "id": "alwYci1cwn5c"
      }
    },
    {
      "cell_type": "code",
      "source": [
        "print(f'Искомая вероятность: {1/c:.04f}')"
      ],
      "metadata": {
        "colab": {
          "base_uri": "https://localhost:8080/"
        },
        "id": "cVyMLf2zwWUU",
        "outputId": "445491cd-48b4-4b3c-e9f5-8fe5704fdb4f"
      },
      "execution_count": 32,
      "outputs": [
        {
          "output_type": "stream",
          "name": "stdout",
          "text": [
            "Искомая вероятность: 0.0083\n"
          ]
        }
      ]
    },
    {
      "cell_type": "markdown",
      "source": [
        "## 3. В ящике имеется 15 деталей, из которых 9 окрашены. Рабочий случайным образом извлекает 3 детали. Какова вероятность того, что все извлеченные детали окрашены?"
      ],
      "metadata": {
        "id": "Mml1an84yawR"
      }
    },
    {
      "cell_type": "markdown",
      "source": [
        "Решение. Делим число сочетаний по 3 из 9 окрашенных деталей на число сочетаний по 3 из всех деталей\n",
        "\n",
        "$$P=\\frac{C^3_9}{C^3_{15}}$$"
      ],
      "metadata": {
        "id": "qtuuYioDydTN"
      }
    },
    {
      "cell_type": "code",
      "source": [
        "p = get_combinations_number(9,3)/get_combinations_number(15,3)\n",
        "print(f'Искомая вероятность: {p:.04f}')"
      ],
      "metadata": {
        "colab": {
          "base_uri": "https://localhost:8080/"
        },
        "id": "Ws3cHdjywW0j",
        "outputId": "38cfeb01-c3ab-44bf-990a-4c71245c13ef"
      },
      "execution_count": 34,
      "outputs": [
        {
          "output_type": "stream",
          "name": "stdout",
          "text": [
            "Искомая вероятность: 0.1846\n"
          ]
        }
      ]
    },
    {
      "cell_type": "markdown",
      "source": [
        "## В лотерее 100 билетов. Из них 2 выигрышных. Какова вероятность того, что 2 приобретенных билета окажутся выигрышными?"
      ],
      "metadata": {
        "id": "bRkMbyFmz-eQ"
      }
    },
    {
      "cell_type": "markdown",
      "source": [
        "Решение: Искомая вероятность будет частным от деления числа сочетаний по 2 из 2 билетов (т.е. единицы) на число сочетаний по 2 из 100 билетов\n",
        "\n",
        "$$P=\\frac{C^2_2}{C^2_{100}}$$"
      ],
      "metadata": {
        "id": "J1-tNRGl0BEJ"
      }
    },
    {
      "cell_type": "code",
      "source": [
        "p = 1/get_combinations_number(100,2)\n",
        "print(f'Искомая вероятность: {p:.06f}')"
      ],
      "metadata": {
        "colab": {
          "base_uri": "https://localhost:8080/"
        },
        "id": "5QmuIPbPzVwe",
        "outputId": "247ab07e-a384-4800-898f-54489eccbbcb"
      },
      "execution_count": 39,
      "outputs": [
        {
          "output_type": "stream",
          "name": "stdout",
          "text": [
            "Искомая вероятность: 0.000202\n"
          ]
        }
      ]
    }
  ]
}