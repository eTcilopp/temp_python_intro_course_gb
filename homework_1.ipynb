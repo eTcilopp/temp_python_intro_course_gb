{
  "nbformat": 4,
  "nbformat_minor": 0,
  "metadata": {
    "colab": {
      "provenance": [],
      "authorship_tag": "ABX9TyP/+0AMBHamNaahlrI462Oq",
      "include_colab_link": true
    },
    "kernelspec": {
      "name": "python3",
      "display_name": "Python 3"
    },
    "language_info": {
      "name": "python"
    }
  },
  "cells": [
    {
      "cell_type": "markdown",
      "metadata": {
        "id": "view-in-github",
        "colab_type": "text"
      },
      "source": [
        "<a href=\"https://colab.research.google.com/github/eTcilopp/temp_python_intro_course_gb/blob/master/homework_1.ipynb\" target=\"_parent\"><img src=\"https://colab.research.google.com/assets/colab-badge.svg\" alt=\"Open In Colab\"/></a>"
      ]
    },
    {
      "cell_type": "markdown",
      "source": [
        "Задача:\n",
        "Найти самую длинную последовательность упорядоченных чисел в RDD и вывести её."
      ],
      "metadata": {
        "id": "K8VS9kcsIqeX"
      }
    },
    {
      "cell_type": "code",
      "execution_count": 1,
      "metadata": {
        "id": "_esDxiePIkHj"
      },
      "outputs": [],
      "source": [
        "!pip install pyspark >> Null"
      ]
    },
    {
      "cell_type": "code",
      "source": [
        "import pyspark\n",
        "from pyspark import SparkContext\n",
        "import random"
      ],
      "metadata": {
        "id": "va4rGqH2I3hR"
      },
      "execution_count": 2,
      "outputs": []
    },
    {
      "cell_type": "code",
      "source": [
        "data = [random.randint(1, 15) for _ in range(1_000_000)]"
      ],
      "metadata": {
        "id": "o3U6YsUrI9mm"
      },
      "execution_count": 66,
      "outputs": []
    },
    {
      "cell_type": "code",
      "source": [
        "sc = SparkContext(\"local\", \"Longest Sequence\")\n",
        "rdd = sc.parallelize(data)"
      ],
      "metadata": {
        "id": "huFrYDmAJoVO"
      },
      "execution_count": 67,
      "outputs": []
    },
    {
      "cell_type": "code",
      "source": [
        "rdd.take(15)"
      ],
      "metadata": {
        "colab": {
          "base_uri": "https://localhost:8080/"
        },
        "id": "i1SdNUU-JgTS",
        "outputId": "7059ca16-4b96-4455-a817-de04b7a95c09"
      },
      "execution_count": 68,
      "outputs": [
        {
          "output_type": "execute_result",
          "data": {
            "text/plain": [
              "[4, 10, 14, 5, 11, 9, 14, 11, 6, 3, 8, 7, 12, 7, 10]"
            ]
          },
          "metadata": {},
          "execution_count": 68
        }
      ]
    },
    {
      "cell_type": "code",
      "source": [
        "# Функция для нахождения последовательностей по возрастанию\n",
        "def find_sequences_asc(numbers):\n",
        "    sequences = []\n",
        "    current_sequence = [numbers[0]]\n",
        "\n",
        "    for i in range(1, len(numbers)):\n",
        "        if numbers[i] == numbers[i - 1]+1:\n",
        "            current_sequence.append(numbers[i])\n",
        "        else:\n",
        "            sequences.append(current_sequence)\n",
        "            current_sequence = [numbers[i]]\n",
        "\n",
        "    sequences.append(current_sequence)\n",
        "    return sequences"
      ],
      "metadata": {
        "id": "4N_AAc37Q1H6"
      },
      "execution_count": 69,
      "outputs": []
    },
    {
      "cell_type": "code",
      "source": [
        "# Функция для нахождения последовательностей по возрастанию\n",
        "def find_sequences_desc(numbers):\n",
        "    sequences = []\n",
        "    current_sequence = [numbers[0]]\n",
        "\n",
        "    for i in range(1, len(numbers)):\n",
        "        if numbers[i] == numbers[i - 1]-1:\n",
        "            current_sequence.append(numbers[i])\n",
        "        else:\n",
        "            sequences.append(current_sequence)\n",
        "            current_sequence = [numbers[i]]\n",
        "\n",
        "    sequences.append(current_sequence)\n",
        "    return sequences"
      ],
      "metadata": {
        "id": "ZoorZWYWTT1W"
      },
      "execution_count": 70,
      "outputs": []
    },
    {
      "cell_type": "code",
      "source": [
        "sequences_rdd_asc = rdd.glom().flatMap(find_sequences_asc)\n",
        "sequences_rdd_desc = rdd.glom().flatMap(find_sequences_desc)"
      ],
      "metadata": {
        "id": "pz6sWjuuQ4-N"
      },
      "execution_count": 71,
      "outputs": []
    },
    {
      "cell_type": "code",
      "source": [
        "longest_sequence_asc = sequences_rdd_asc.reduce(lambda x, y: x if len(x) > len(y) else y)\n",
        "longest_sequence_desc = sequences_rdd_desc.reduce(lambda x, y: x if len(x) > len(y) else y)"
      ],
      "metadata": {
        "id": "tZ_-hxOzQ-fB"
      },
      "execution_count": 72,
      "outputs": []
    },
    {
      "cell_type": "code",
      "source": [
        "print(f\"Самая длинная упорядоченная последовательность: {longest_sequence_asc if len(longest_sequence_asc) > len(longest_sequence_desc) else longest_sequence_desc }\")"
      ],
      "metadata": {
        "colab": {
          "base_uri": "https://localhost:8080/"
        },
        "id": "fsSScLLzRCFs",
        "outputId": "d71b8aef-73bd-40b3-aa87-07f2c16c5c37"
      },
      "execution_count": 73,
      "outputs": [
        {
          "output_type": "stream",
          "name": "stdout",
          "text": [
            "Самая длинная упорядоченная последовательность: [11, 10, 9, 8, 7, 6]\n"
          ]
        }
      ]
    },
    {
      "cell_type": "code",
      "source": [
        "sc.stop()"
      ],
      "metadata": {
        "id": "bl39Rw12KM7U"
      },
      "execution_count": 74,
      "outputs": []
    }
  ]
}