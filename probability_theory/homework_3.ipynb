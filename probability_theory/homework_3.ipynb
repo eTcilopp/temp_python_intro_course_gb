{
  "nbformat": 4,
  "nbformat_minor": 0,
  "metadata": {
    "colab": {
      "provenance": [],
      "authorship_tag": "ABX9TyObFQvFUKwd1tMs0FdvG+8j",
      "include_colab_link": true
    },
    "kernelspec": {
      "name": "python3",
      "display_name": "Python 3"
    },
    "language_info": {
      "name": "python"
    }
  },
  "cells": [
    {
      "cell_type": "markdown",
      "metadata": {
        "id": "view-in-github",
        "colab_type": "text"
      },
      "source": [
        "<a href=\"https://colab.research.google.com/github/eTcilopp/temp_python_intro_course_gb/blob/master/probability_theory/homework_3.ipynb\" target=\"_parent\"><img src=\"https://colab.research.google.com/assets/colab-badge.svg\" alt=\"Open In Colab\"/></a>"
      ]
    },
    {
      "cell_type": "markdown",
      "source": [
        "# Домашняя работа №3\n",
        "## Задача 1. Даны значения зарплат из выборки выпускников: 100, 80, 75, 77, 89, 33, 45, 25, 65, 17, 30, 24, 57, 55, 70, 75, 65, 84, 90, 150. Посчитать (желательно без использования статистических методов наподобие std, var, mean) среднее арифметическое, среднее квадратичное отклонение, смещенную и несмещенную оценки дисперсий для данной выборки.\n"
      ],
      "metadata": {
        "id": "zsvHWTkzzF59"
      }
    },
    {
      "cell_type": "markdown",
      "source": [
        "Решение:"
      ],
      "metadata": {
        "id": "UmST5M1vzw-d"
      }
    },
    {
      "cell_type": "code",
      "execution_count": 8,
      "metadata": {
        "id": "ZFCSp6s8yi4z"
      },
      "outputs": [],
      "source": [
        "salaries = [100, 80, 75, 77, 89, 33, 45, 25, 65, 17,\n",
        "            30, 24, 57, 55, 70, 75, 65, 84, 90, 150]\n",
        "\n",
        "def get_average(array):\n",
        "  return sum(array)/len(array)\n",
        "\n",
        "def get_dispersion(array, biased=False):\n",
        "  average = get_average(array)\n",
        "  denominator = len(array) if biased else len(array)-1\n",
        "  return sum([(el-average)**2 for el in array])/denominator\n"
      ]
    },
    {
      "cell_type": "code",
      "source": [
        "average = get_average(salaries)\n",
        "st_dev_biased = get_dispersion(salaries, biased=True)\n",
        "st_dev_unbiased = get_dispersion(salaries)\n",
        "\n",
        "print(f'Среднее значение: {average}\\nДисперсия (Смещенная): {st_dev_biased}'\n",
        "      f'\\nСКО (Смещенное): {st_dev_biased**0.5}\\nДисперсия (Несмещенная): '\n",
        "      f'{st_dev_unbiased}\\nСКО (Несмещенное): {st_dev_unbiased**0.5}')"
      ],
      "metadata": {
        "colab": {
          "base_uri": "https://localhost:8080/"
        },
        "id": "xC6TXkLL0YBU",
        "outputId": "34bf4745-d048-48f6-e5ed-7dd7c531d7c9"
      },
      "execution_count": 10,
      "outputs": [
        {
          "output_type": "stream",
          "name": "stdout",
          "text": [
            "Среднее значение: 65.3\n",
            "Дисперсия (Смещенная): 950.11\n",
            "СКО (Смещенное): 30.823854398825596\n",
            "Дисперсия (Несмещенная): 1000.1157894736842\n",
            "СКО (Несмещенное): 31.624607341019814\n"
          ]
        }
      ]
    },
    {
      "cell_type": "code",
      "source": [],
      "metadata": {
        "id": "OJ61XQN73dqp"
      },
      "execution_count": null,
      "outputs": []
    }
  ]
}