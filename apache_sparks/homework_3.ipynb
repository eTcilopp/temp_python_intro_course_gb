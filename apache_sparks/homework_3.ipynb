{
  "nbformat": 4,
  "nbformat_minor": 0,
  "metadata": {
    "colab": {
      "provenance": [],
      "authorship_tag": "ABX9TyMrwGtkj/N2ZTM2D/jnx7PH",
      "include_colab_link": true
    },
    "kernelspec": {
      "name": "python3",
      "display_name": "Python 3"
    },
    "language_info": {
      "name": "python"
    }
  },
  "cells": [
    {
      "cell_type": "markdown",
      "metadata": {
        "id": "view-in-github",
        "colab_type": "text"
      },
      "source": [
        "<a href=\"https://colab.research.google.com/github/eTcilopp/temp_python_intro_course_gb/blob/master/apache_sparks/homework_3.ipynb\" target=\"_parent\"><img src=\"https://colab.research.google.com/assets/colab-badge.svg\" alt=\"Open In Colab\"/></a>"
      ]
    },
    {
      "cell_type": "code",
      "execution_count": 1,
      "metadata": {
        "id": "6G3hEPKDf_1N"
      },
      "outputs": [],
      "source": [
        "!pip install pyspark >> None"
      ]
    },
    {
      "cell_type": "code",
      "source": [
        "import pyspark\n",
        "from pyspark import SparkContext\n",
        "from pyspark.sql import SparkSession, Window\n",
        "from pyspark.sql.functions import col, avg"
      ],
      "metadata": {
        "id": "jsKypU6pgPDD"
      },
      "execution_count": 9,
      "outputs": []
    },
    {
      "cell_type": "code",
      "source": [
        "data = [\n",
        "    (\"2023-11-20\", \"Electronics\", 100, 12000),\n",
        "    (\"2023-11-21\", \"Electronics\", 110, 13000),\n",
        "    (\"2023-11-22\", \"Electronics\", 105, 12500),\n",
        "    (\"2023-11-20\", \"Clothing\", 300, 15000),\n",
        "    (\"2023-11-21\", \"Clothing\", 280, 14000),\n",
        "    (\"2023-11-22\", \"Clothing\", 320, 16000),\n",
        "    (\"2023-11-20\", \"Books\", 150, 9000),\n",
        "    (\"2023-11-21\", \"Books\", 200, 12000),\n",
        "    (\"2023-11-22\", \"Books\", 180, 10000)\n",
        "]"
      ],
      "metadata": {
        "id": "DuOVaGVbgRr6"
      },
      "execution_count": 3,
      "outputs": []
    },
    {
      "cell_type": "code",
      "source": [
        "spark=SparkSession.builder.appName('S3').getOrCreate()"
      ],
      "metadata": {
        "id": "eslH8gK-gheU"
      },
      "execution_count": 4,
      "outputs": []
    },
    {
      "cell_type": "code",
      "source": [
        "df = spark.createDataFrame(data, [ \"date\", \"category\", \"quantity\", \"revenue\"])"
      ],
      "metadata": {
        "id": "Io-grFpAglDi"
      },
      "execution_count": 6,
      "outputs": []
    },
    {
      "cell_type": "code",
      "source": [
        "df.show()"
      ],
      "metadata": {
        "colab": {
          "base_uri": "https://localhost:8080/"
        },
        "id": "araU6yhHgyAT",
        "outputId": "4d613556-ecd2-4bc7-eb3a-13493568b4bd"
      },
      "execution_count": 7,
      "outputs": [
        {
          "output_type": "stream",
          "name": "stdout",
          "text": [
            "+----------+-----------+--------+-------+\n",
            "|      date|   category|quantity|revenue|\n",
            "+----------+-----------+--------+-------+\n",
            "|2023-11-20|Electronics|     100|  12000|\n",
            "|2023-11-21|Electronics|     110|  13000|\n",
            "|2023-11-22|Electronics|     105|  12500|\n",
            "|2023-11-20|   Clothing|     300|  15000|\n",
            "|2023-11-21|   Clothing|     280|  14000|\n",
            "|2023-11-22|   Clothing|     320|  16000|\n",
            "|2023-11-20|      Books|     150|   9000|\n",
            "|2023-11-21|      Books|     200|  12000|\n",
            "|2023-11-22|      Books|     180|  10000|\n",
            "+----------+-----------+--------+-------+\n",
            "\n"
          ]
        }
      ]
    },
    {
      "cell_type": "markdown",
      "source": [
        "С использованием оконных функций, рассчитать среднее выручки от продаж для каждой категории продукта."
      ],
      "metadata": {
        "id": "4Fkum6lqhf9I"
      }
    },
    {
      "cell_type": "code",
      "source": [
        "windowSpec = Window.partitionBy(\"category\")"
      ],
      "metadata": {
        "id": "JM-3N0edhYY_"
      },
      "execution_count": 10,
      "outputs": []
    },
    {
      "cell_type": "code",
      "source": [
        "df_with_avg = df.withColumn(\"average_revenue\", avg(col(\"revenue\")).over(windowSpec))\n",
        "df_with_avg.show()"
      ],
      "metadata": {
        "colab": {
          "base_uri": "https://localhost:8080/"
        },
        "id": "56mIOIPqiwg_",
        "outputId": "355f8894-e53b-454b-f4f9-391f13c41e12"
      },
      "execution_count": 12,
      "outputs": [
        {
          "output_type": "stream",
          "name": "stdout",
          "text": [
            "+----------+-----------+--------+-------+------------------+\n",
            "|      date|   category|quantity|revenue|   average_revenue|\n",
            "+----------+-----------+--------+-------+------------------+\n",
            "|2023-11-20|      Books|     150|   9000|10333.333333333334|\n",
            "|2023-11-21|      Books|     200|  12000|10333.333333333334|\n",
            "|2023-11-22|      Books|     180|  10000|10333.333333333334|\n",
            "|2023-11-20|   Clothing|     300|  15000|           15000.0|\n",
            "|2023-11-21|   Clothing|     280|  14000|           15000.0|\n",
            "|2023-11-22|   Clothing|     320|  16000|           15000.0|\n",
            "|2023-11-20|Electronics|     100|  12000|           12500.0|\n",
            "|2023-11-21|Electronics|     110|  13000|           12500.0|\n",
            "|2023-11-22|Electronics|     105|  12500|           12500.0|\n",
            "+----------+-----------+--------+-------+------------------+\n",
            "\n"
          ]
        }
      ]
    },
    {
      "cell_type": "markdown",
      "source": [
        "Применить операцию pivot для того, чтобы преобразовать полученные данные таким образом,<br>\n",
        "чтобы в качестве строк были категории продуктов, в качестве столбцов были дни,<br> а значениями были средние значения выручки от продаж за соответствующий день"
      ],
      "metadata": {
        "id": "e3f27iMlkFjE"
      }
    },
    {
      "cell_type": "code",
      "source": [
        "pivot_df = df.groupBy(\"category\").pivot(\"date\").avg(\"revenue\")"
      ],
      "metadata": {
        "id": "7SPC_G37kiJF"
      },
      "execution_count": 22,
      "outputs": []
    },
    {
      "cell_type": "code",
      "source": [
        "pivot_df.show()"
      ],
      "metadata": {
        "colab": {
          "base_uri": "https://localhost:8080/"
        },
        "id": "XrHE6ifWlYUr",
        "outputId": "ee7d5bc4-e1e5-4021-d588-3bed35451283"
      },
      "execution_count": 23,
      "outputs": [
        {
          "output_type": "stream",
          "name": "stdout",
          "text": [
            "+-----------+----------+----------+----------+\n",
            "|   category|2023-11-20|2023-11-21|2023-11-22|\n",
            "+-----------+----------+----------+----------+\n",
            "|Electronics|   12000.0|   13000.0|   12500.0|\n",
            "|   Clothing|   15000.0|   14000.0|   16000.0|\n",
            "|      Books|    9000.0|   12000.0|   10000.0|\n",
            "+-----------+----------+----------+----------+\n",
            "\n"
          ]
        }
      ]
    }
  ]
}