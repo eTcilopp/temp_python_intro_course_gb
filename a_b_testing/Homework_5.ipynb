{
  "nbformat": 4,
  "nbformat_minor": 0,
  "metadata": {
    "colab": {
      "provenance": [],
      "authorship_tag": "ABX9TyOT31+wsUOAHDoWoExBugdb",
      "include_colab_link": true
    },
    "kernelspec": {
      "name": "python3",
      "display_name": "Python 3"
    },
    "language_info": {
      "name": "python"
    }
  },
  "cells": [
    {
      "cell_type": "markdown",
      "metadata": {
        "id": "view-in-github",
        "colab_type": "text"
      },
      "source": [
        "<a href=\"https://colab.research.google.com/github/eTcilopp/temp_python_intro_course_gb/blob/master/a_b_testing/Homework_5.ipynb\" target=\"_parent\"><img src=\"https://colab.research.google.com/assets/colab-badge.svg\" alt=\"Open In Colab\"/></a>"
      ]
    },
    {
      "cell_type": "markdown",
      "source": [
        "#Вы провели эксперимент c упрощением формы заказа в магазине Утконос и получили результаты по метрике конверсий в покупку.<br>\n",
        "## Выберите метод оценки и оцените есть ли стат.значимые различия между конверсиями в двух группах при alpha = 5%.<br>Дайте краткие рекомендации команде.<br>\n",
        "Результаты:.<br>  1) Число юзеров в группах , которые заходили на сайт в период эксперимента: n1 = 15550 и n2 = 15550 .<br>  2) Число юзеров в группах , которые совершили хотя бы одну покупку за период эксперимента: n1 = 164 и n2 = 228.<br>  3) Конверсии : conv1 = 1.05% conv2 = 1.47% ."
      ],
      "metadata": {
        "id": "L6wVMygpNqTY"
      }
    },
    {
      "cell_type": "code",
      "execution_count": 8,
      "metadata": {
        "id": "PxF13gU8JF0i"
      },
      "outputs": [],
      "source": [
        "import pandas as pd\n",
        "import numpy as np\n",
        "from scipy import stats\n",
        "from statsmodels.stats.proportion import proportions_ztest"
      ]
    },
    {
      "cell_type": "markdown",
      "source": [],
      "metadata": {
        "id": "2KyvE4KgQAAR"
      }
    },
    {
      "cell_type": "code",
      "source": [
        "count = [164, 228]  # количество успехов в каждой группе\n",
        "nobs = [15550, 15550]  # размеры выборок\n",
        "\n",
        "stat, pval = proportions_ztest(count, nobs)"
      ],
      "metadata": {
        "id": "_iZGVYnzKh8F"
      },
      "execution_count": 9,
      "outputs": []
    },
    {
      "cell_type": "code",
      "source": [
        "print(f'Значение pval {pval}')"
      ],
      "metadata": {
        "colab": {
          "base_uri": "https://localhost:8080/"
        },
        "id": "B8vZ4FwIMUpp",
        "outputId": "040f3c5d-1ff5-478c-cc6c-954ff0fd3a72"
      },
      "execution_count": 11,
      "outputs": [
        {
          "output_type": "stream",
          "name": "stdout",
          "text": [
            "Значение pval 0.001141715077067056\n"
          ]
        }
      ]
    },
    {
      "cell_type": "markdown",
      "source": [
        "Поскольку значение pval меньше alpha, можно утверждать, что статистически значимые различия имеются.<br>\n",
        "Краткая рекомендация команде:\n",
        "# \"Так держать!\""
      ],
      "metadata": {
        "id": "S8DhFVbMTCGQ"
      }
    },
    {
      "cell_type": "code",
      "source": [
        "p_value"
      ],
      "metadata": {
        "colab": {
          "base_uri": "https://localhost:8080/"
        },
        "id": "3lugf3DoNKQm",
        "outputId": "00638c34-fbe4-48e4-ead4-a5ba3be88777"
      },
      "execution_count": 7,
      "outputs": [
        {
          "output_type": "execute_result",
          "data": {
            "text/plain": [
              "0.02320876510972385"
            ]
          },
          "metadata": {},
          "execution_count": 7
        }
      ]
    },
    {
      "cell_type": "markdown",
      "source": [
        "## 2) Сравниваем метрику конверсия в покупку. Размер выборки - 10000 элементов в каждой группе . Какой статистический критерий тут лучше всего подойдёт и почему ?"
      ],
      "metadata": {
        "id": "o7mwx1WKOro5"
      }
    },
    {
      "cell_type": "markdown",
      "source": [
        "\n",
        "Для сравнения метрики конверсии в покупку между двумя группами с выборками по 10000 элементов в каждой, подойдет z-тест для пропорций<br>тот же, что мы применили выше.<br>\n",
        "**Причины выбора**:<br>\n",
        "*Большие выборки*: можно предположить, что распределение выборочных пропорций будет приближаться к нормальному распределению<br>\n",
        "*Применимость*: Z-тест идеально подходит для сравнения долей или пропорций (в данном случае, конверсии). Он позволяет оценить, является ли разница между пропорциями в двух независимых выборках статистически значимой.<br>\n",
        "*Простота и распространенновть*:Z-тест является одним из наиболее часто используемых статистических методов для сравнения пропорций,<br> он хорошо документирован и легко реализуется с помощью доступных статистических пакетов."
      ],
      "metadata": {
        "id": "lQbQv6Xiylta"
      }
    }
  ]
}